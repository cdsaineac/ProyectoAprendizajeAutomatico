{
 "cells": [
  {
   "cell_type": "code",
   "execution_count": 3,
   "metadata": {},
   "outputs": [],
   "source": [
    "import pandas as pd\n",
    "import joblib\n",
    "import plotly.colors as colors\n",
    "import plotly.graph_objects as go\n",
    "from plotly.subplots import make_subplots"
   ]
  },
  {
   "cell_type": "code",
   "execution_count": 4,
   "metadata": {},
   "outputs": [],
   "source": [
    "grid_RF_OS = joblib.load('./RandomForest/RandomForest_GridSearch_RandomOverSampling.joblib')\n",
    "grid_RF_US = joblib.load('./RandomForest/RandomForest_GridSearch_RandomUnderSampling.joblib')\n",
    "grid_HGB_OS = joblib.load('./GradientBoosting/GradientBoosting_GridSearch_RandomOverSampling.joblib')\n",
    "grid_HGB_US = joblib.load('./GradientBoosting/GradientBoosting_GridSearch_RandomUnderSampling.joblib')"
   ]
  },
  {
   "cell_type": "code",
   "execution_count": 5,
   "metadata": {},
   "outputs": [],
   "source": [
    "param_grids = {\n",
    "    \"RandomForest_OverSampling\": {\n",
    "        \"n_estimators\": [50, 100, 150],\n",
    "        \"max_depth\": [3, 6, 9],\n",
    "        \"max_leaf_nodes\": [3, 6, 9]},\n",
    "    \"RandomForest_UnderSampling\": {\n",
    "        \"n_estimators\": [50, 100, 150],\n",
    "        \"max_depth\": [3, 6, 9],\n",
    "        \"max_leaf_nodes\": [3, 6, 9]},\n",
    "    \"HistGradientBoosting_OverSampling\": {\n",
    "        \"max_iter\": [50, 100, 150],\n",
    "        \"learning_rate\": [0.5, 0.1, 0.01],\n",
    "        \"max_depth\": [3, 9, None]},\n",
    "    \"HistGradientBoosting_UnderSampling\": {\n",
    "        \"max_iter\": [50, 100, 150],\n",
    "        \"learning_rate\": [0.5, 0.1, 0.01],\n",
    "        \"max_depth\": [3, 9, None]},\n",
    "}"
   ]
  },
  {
   "cell_type": "code",
   "execution_count": 6,
   "metadata": {},
   "outputs": [],
   "source": [
    "results = []\n",
    "\n",
    "cv_results = pd.DataFrame(grid_RF_OS.cv_results_)\n",
    "cv_results = cv_results[(cv_results[\"param_classifier__max_leaf_nodes\"] == 3)]\n",
    "result = {\"model\": 'RandomForest_OverSampling', \"cv_results\": cv_results}\n",
    "results.append(result)\n",
    "\n",
    "cv_results = pd.DataFrame(grid_HGB_OS.cv_results_)\n",
    "cv_results = cv_results[(cv_results[\"param_classifier__learning_rate\"] == 0.1)]\n",
    "result = {\"model\": 'HistGradientBoosting_OverSampling', \"cv_results\": cv_results}\n",
    "results.append(result)\n",
    "\n",
    "cv_results = pd.DataFrame(grid_RF_US.cv_results_)\n",
    "cv_results = cv_results[(cv_results[\"param_classifier__max_leaf_nodes\"] == 3)]\n",
    "result = {\"model\": 'RandomForest_UnderSampling', \"cv_results\": cv_results}\n",
    "results.append(result)\n",
    "\n",
    "cv_results = pd.DataFrame(grid_HGB_US.cv_results_)\n",
    "cv_results = cv_results[(cv_results[\"param_classifier__learning_rate\"] == 0.1)]\n",
    "result = {\"model\": 'HistGradientBoosting_UnderSampling', \"cv_results\": cv_results}\n",
    "results.append(result)\n",
    "\n"
   ]
  },
  {
   "cell_type": "code",
   "execution_count": 11,
   "metadata": {},
   "outputs": [
    {
     "data": {
      "application/vnd.plotly.v1+json": {
       "config": {
        "plotlyServerURL": "https://plot.ly"
       },
       "data": [
        {
         "error_x": {
          "array": [
           1.384,
           0.552,
           0.007
          ],
          "type": "percent"
         },
         "error_y": {
          "array": [
           0.021,
           0.024,
           0.029
          ],
          "type": "percent"
         },
         "legendgroup": "RandomForest_OverSampling",
         "marker": {
          "color": "#636EFA"
         },
         "name": "RandomForest_OverSampling",
         "type": "scatter",
         "x": [
          62.626,
          109.99,
          145.026
         ],
         "xaxis": "x",
         "y": [
          0.845,
          0.845,
          0.841
         ],
         "yaxis": "y"
        },
        {
         "error_x": {
          "array": [
           0.615,
           0.005,
           0.614
          ],
          "type": "percent"
         },
         "error_y": {
          "array": [
           0.021,
           0.024,
           0.029
          ],
          "type": "percent"
         },
         "legendgroup": "RandomForest_OverSampling",
         "marker": {
          "color": "#636EFA"
         },
         "showlegend": false,
         "type": "scatter",
         "x": [
          6.62,
          7.469,
          8.452
         ],
         "xaxis": "x2",
         "y": [
          0.845,
          0.845,
          0.841
         ],
         "yaxis": "y2"
        },
        {
         "error_x": {
          "array": [
           0.128,
           0.024,
           4.483
          ],
          "type": "percent"
         },
         "error_y": {
          "array": [
           0.021,
           0.024,
           0.029
          ],
          "type": "percent"
         },
         "legendgroup": "RandomForest_OverSampling",
         "marker": {
          "color": "#636EFA"
         },
         "showlegend": false,
         "type": "scatter",
         "x": [
          71.857,
          132.797,
          183.033
         ],
         "xaxis": "x3",
         "y": [
          0.845,
          0.845,
          0.841
         ],
         "yaxis": "y3"
        },
        {
         "error_x": {
          "array": [
           1.032,
           0.066,
           1.027
          ],
          "type": "percent"
         },
         "error_y": {
          "array": [
           0.021,
           0.024,
           0.029
          ],
          "type": "percent"
         },
         "legendgroup": "RandomForest_OverSampling",
         "marker": {
          "color": "#636EFA"
         },
         "showlegend": false,
         "type": "scatter",
         "x": [
          5.605,
          11.008,
          15.016
         ],
         "xaxis": "x4",
         "y": [
          0.845,
          0.845,
          0.841
         ],
         "yaxis": "y4"
        },
        {
         "error_x": {
          "array": [
           0.184,
           0.801,
           0.517
          ],
          "type": "percent"
         },
         "error_y": {
          "array": [
           0.021,
           0.024,
           0.029
          ],
          "type": "percent"
         },
         "legendgroup": "RandomForest_OverSampling",
         "marker": {
          "color": "#636EFA"
         },
         "showlegend": false,
         "type": "scatter",
         "x": [
          80.373,
          121.103,
          159.244
         ],
         "xaxis": "x5",
         "y": [
          0.845,
          0.845,
          0.841
         ],
         "yaxis": "y5"
        },
        {
         "error_x": {
          "array": [
           0.932,
           0.003,
           0.118
          ],
          "type": "percent"
         },
         "error_y": {
          "array": [
           0.021,
           0.024,
           0.029
          ],
          "type": "percent"
         },
         "legendgroup": "RandomForest_OverSampling",
         "marker": {
          "color": "#636EFA"
         },
         "showlegend": false,
         "type": "scatter",
         "x": [
          6.591,
          10.242,
          12.637
         ],
         "xaxis": "x6",
         "y": [
          0.845,
          0.845,
          0.841
         ],
         "yaxis": "y6"
        },
        {
         "error_x": {
          "array": [
           0.22,
           1.553,
           0.563
          ],
          "type": "percent"
         },
         "error_y": {
          "array": [
           0.017,
           0.016,
           0.01
          ],
          "type": "percent"
         },
         "legendgroup": "HistGradientBoosting_OverSampling",
         "marker": {
          "color": "#EF553B"
         },
         "name": "HistGradientBoosting_OverSampling",
         "type": "scatter",
         "x": [
          97.336,
          175.647,
          260.66
         ],
         "xaxis": "x",
         "y": [
          0.771,
          0.777,
          0.783
         ],
         "yaxis": "y"
        },
        {
         "error_x": {
          "array": [
           0.259,
           0.722,
           0.373
          ],
          "type": "percent"
         },
         "error_y": {
          "array": [
           0.017,
           0.016,
           0.01
          ],
          "type": "percent"
         },
         "legendgroup": "HistGradientBoosting_OverSampling",
         "marker": {
          "color": "#EF553B"
         },
         "showlegend": false,
         "type": "scatter",
         "x": [
          11.851,
          22.26,
          34.203
         ],
         "xaxis": "x2",
         "y": [
          0.771,
          0.777,
          0.783
         ],
         "yaxis": "y2"
        },
        {
         "error_x": {
          "array": [
           0.23,
           45.39,
           115.722
          ],
          "type": "percent"
         },
         "error_y": {
          "array": [
           0.008,
           0.005,
           0.003
          ],
          "type": "percent"
         },
         "legendgroup": "HistGradientBoosting_OverSampling",
         "marker": {
          "color": "#EF553B"
         },
         "showlegend": false,
         "type": "scatter",
         "x": [
          179.264,
          253.929,
          325.452
         ],
         "xaxis": "x3",
         "y": [
          0.797,
          0.801,
          0.803
         ],
         "yaxis": "y3"
        },
        {
         "error_x": {
          "array": [
           0.813,
           4.585,
           9.653
          ],
          "type": "percent"
         },
         "error_y": {
          "array": [
           0.008,
           0.005,
           0.003
          ],
          "type": "percent"
         },
         "legendgroup": "HistGradientBoosting_OverSampling",
         "marker": {
          "color": "#EF553B"
         },
         "showlegend": false,
         "type": "scatter",
         "x": [
          15.441,
          24.412,
          27.918
         ],
         "xaxis": "x4",
         "y": [
          0.797,
          0.801,
          0.803
         ],
         "yaxis": "y4"
        },
        {
         "error_x": {
          "array": [
           0.29,
           46.034,
           112.695
          ],
          "type": "percent"
         },
         "error_y": {
          "array": [
           0.007,
           0.007,
           0.008
          ],
          "type": "percent"
         },
         "legendgroup": "HistGradientBoosting_OverSampling",
         "marker": {
          "color": "#EF553B"
         },
         "showlegend": false,
         "type": "scatter",
         "x": [
          171.501,
          260.931,
          333.553
         ],
         "xaxis": "x5",
         "y": [
          0.799,
          0.8,
          0.801
         ],
         "yaxis": "y5"
        },
        {
         "error_x": {
          "array": [
           0.082,
           4.93,
           10.608
          ],
          "type": "percent"
         },
         "error_y": {
          "array": [
           0.007,
           0.007,
           0.008
          ],
          "type": "percent"
         },
         "legendgroup": "HistGradientBoosting_OverSampling",
         "marker": {
          "color": "#EF553B"
         },
         "showlegend": false,
         "type": "scatter",
         "x": [
          15.639,
          26.867,
          30.202
         ],
         "xaxis": "x6",
         "y": [
          0.799,
          0.8,
          0.801
         ],
         "yaxis": "y6"
        },
        {
         "error_x": {
          "array": [
           2.08,
           4.251,
           0.953
          ],
          "type": "percent"
         },
         "error_y": {
          "array": [
           0.023,
           0,
           0
          ],
          "type": "percent"
         },
         "legendgroup": "RandomForest_UnderSampling",
         "marker": {
          "color": "#00CC96"
         },
         "name": "RandomForest_UnderSampling",
         "type": "scatter",
         "x": [
          20.785,
          35.322,
          28.167
         ],
         "xaxis": "x",
         "y": [
          0.045,
          0.023,
          0.023
         ],
         "yaxis": "y"
        },
        {
         "error_x": {
          "array": [
           0.782,
           1.903,
           3.273
          ],
          "type": "percent"
         },
         "error_y": {
          "array": [
           0.023,
           0,
           0
          ],
          "type": "percent"
         },
         "legendgroup": "RandomForest_UnderSampling",
         "marker": {
          "color": "#00CC96"
         },
         "showlegend": false,
         "type": "scatter",
         "x": [
          32.601,
          36.338,
          64.259
         ],
         "xaxis": "x2",
         "y": [
          0.045,
          0.023,
          0.023
         ],
         "yaxis": "y2"
        },
        {
         "error_x": {
          "array": [
           0.39,
           1.037,
           1.802
          ],
          "type": "percent"
         },
         "error_y": {
          "array": [
           0.023,
           0,
           0
          ],
          "type": "percent"
         },
         "legendgroup": "RandomForest_UnderSampling",
         "marker": {
          "color": "#00CC96"
         },
         "showlegend": false,
         "type": "scatter",
         "x": [
          39.699,
          25.175,
          31.847
         ],
         "xaxis": "x3",
         "y": [
          0.045,
          0.023,
          0.023
         ],
         "yaxis": "y3"
        },
        {
         "error_x": {
          "array": [
           2.346,
           8.091,
           2.307
          ],
          "type": "percent"
         },
         "error_y": {
          "array": [
           0.023,
           0,
           0
          ],
          "type": "percent"
         },
         "legendgroup": "RandomForest_UnderSampling",
         "marker": {
          "color": "#00CC96"
         },
         "showlegend": false,
         "type": "scatter",
         "x": [
          29.671,
          44.987,
          64.538
         ],
         "xaxis": "x4",
         "y": [
          0.045,
          0.023,
          0.023
         ],
         "yaxis": "y4"
        },
        {
         "error_x": {
          "array": [
           4.442,
           1.706,
           2.121
          ],
          "type": "percent"
         },
         "error_y": {
          "array": [
           0.023,
           0,
           0
          ],
          "type": "percent"
         },
         "legendgroup": "RandomForest_UnderSampling",
         "marker": {
          "color": "#00CC96"
         },
         "showlegend": false,
         "type": "scatter",
         "x": [
          35.716,
          29.808,
          38.841
         ],
         "xaxis": "x5",
         "y": [
          0.045,
          0.023,
          0.023
         ],
         "yaxis": "y5"
        },
        {
         "error_x": {
          "array": [
           0.767,
           1.379,
           0.494
          ],
          "type": "percent"
         },
         "error_y": {
          "array": [
           0.023,
           0,
           0
          ],
          "type": "percent"
         },
         "legendgroup": "RandomForest_UnderSampling",
         "marker": {
          "color": "#00CC96"
         },
         "showlegend": false,
         "type": "scatter",
         "x": [
          23.929,
          42.544,
          53.049
         ],
         "xaxis": "x6",
         "y": [
          0.045,
          0.023,
          0.023
         ],
         "yaxis": "y6"
        },
        {
         "error_x": {
          "array": [
           2.235,
           0.611,
           0.433
          ],
          "type": "percent"
         },
         "error_y": {
          "array": [
           0.009,
           0.009,
           0.009
          ],
          "type": "percent"
         },
         "legendgroup": "HistGradientBoosting_UnderSampling",
         "marker": {
          "color": "#AB63FA"
         },
         "name": "HistGradientBoosting_UnderSampling",
         "type": "scatter",
         "x": [
          25.694,
          22.045,
          19.528
         ],
         "xaxis": "x",
         "y": [
          0.041,
          0.041,
          0.041
         ],
         "yaxis": "y"
        },
        {
         "error_x": {
          "array": [
           0.711,
           0.918,
           0.053
          ],
          "type": "percent"
         },
         "error_y": {
          "array": [
           0.009,
           0.009,
           0.009
          ],
          "type": "percent"
         },
         "legendgroup": "HistGradientBoosting_UnderSampling",
         "marker": {
          "color": "#AB63FA"
         },
         "showlegend": false,
         "type": "scatter",
         "x": [
          27.343,
          23.87,
          25.95
         ],
         "xaxis": "x2",
         "y": [
          0.041,
          0.041,
          0.041
         ],
         "yaxis": "y2"
        },
        {
         "error_x": {
          "array": [
           0.354,
           0.023,
           0.577
          ],
          "type": "percent"
         },
         "error_y": {
          "array": [
           0.003,
           0.003,
           0.003
          ],
          "type": "percent"
         },
         "legendgroup": "HistGradientBoosting_UnderSampling",
         "marker": {
          "color": "#AB63FA"
         },
         "showlegend": false,
         "type": "scatter",
         "x": [
          20.894,
          21.863,
          19.557
         ],
         "xaxis": "x3",
         "y": [
          0.044,
          0.044,
          0.044
         ],
         "yaxis": "y3"
        },
        {
         "error_x": {
          "array": [
           0.224,
           1.178,
           0.164
          ],
          "type": "percent"
         },
         "error_y": {
          "array": [
           0.003,
           0.003,
           0.003
          ],
          "type": "percent"
         },
         "legendgroup": "HistGradientBoosting_UnderSampling",
         "marker": {
          "color": "#AB63FA"
         },
         "showlegend": false,
         "type": "scatter",
         "x": [
          33.835,
          31.396,
          32.368
         ],
         "xaxis": "x4",
         "y": [
          0.044,
          0.044,
          0.044
         ],
         "yaxis": "y4"
        },
        {
         "error_x": {
          "array": [
           0.683,
           0.712,
           0.269
          ],
          "type": "percent"
         },
         "error_y": {
          "array": [
           0.005,
           0.005,
           0.005
          ],
          "type": "percent"
         },
         "legendgroup": "HistGradientBoosting_UnderSampling",
         "marker": {
          "color": "#AB63FA"
         },
         "showlegend": false,
         "type": "scatter",
         "x": [
          21.913,
          19.396,
          21.486
         ],
         "xaxis": "x5",
         "y": [
          0.039,
          0.039,
          0.039
         ],
         "yaxis": "y5"
        },
        {
         "error_x": {
          "array": [
           1.352,
           0.516,
           0.966
          ],
          "type": "percent"
         },
         "error_y": {
          "array": [
           0.005,
           0.005,
           0.005
          ],
          "type": "percent"
         },
         "legendgroup": "HistGradientBoosting_UnderSampling",
         "marker": {
          "color": "#AB63FA"
         },
         "showlegend": false,
         "type": "scatter",
         "x": [
          33.695,
          36.064,
          33.274
         ],
         "xaxis": "x6",
         "y": [
          0.039,
          0.039,
          0.039
         ],
         "yaxis": "y6"
        }
       ],
       "layout": {
        "annotations": [
         {
          "font": {
           "size": 16
          },
          "showarrow": false,
          "text": "Train time vs score",
          "x": 0.225,
          "xanchor": "center",
          "xref": "paper",
          "y": 1,
          "yanchor": "bottom",
          "yref": "paper"
         },
         {
          "font": {
           "size": 16
          },
          "showarrow": false,
          "text": "Predict time vs score",
          "x": 0.775,
          "xanchor": "center",
          "xref": "paper",
          "y": 1,
          "yanchor": "bottom",
          "yref": "paper"
         },
         {
          "font": {
           "size": 16
          },
          "showarrow": false,
          "text": "Train time (s)                                                                Predict time (s)",
          "x": 0.5,
          "xanchor": "center",
          "xref": "paper",
          "y": 0,
          "yanchor": "top",
          "yref": "paper",
          "yshift": -30
         },
         {
          "font": {
           "size": 16
          },
          "showarrow": false,
          "text": "Test R2 score - higher is better",
          "textangle": -90,
          "x": 0,
          "xanchor": "right",
          "xref": "paper",
          "xshift": -40,
          "y": 0.5,
          "yanchor": "middle",
          "yref": "paper"
         }
        ],
        "height": 500,
        "legend": {
         "borderwidth": 1,
         "traceorder": "normal",
         "x": 1,
         "y": 0.01
        },
        "template": {
         "data": {
          "bar": [
           {
            "error_x": {
             "color": "#2a3f5f"
            },
            "error_y": {
             "color": "#2a3f5f"
            },
            "marker": {
             "line": {
              "color": "#E5ECF6",
              "width": 0.5
             },
             "pattern": {
              "fillmode": "overlay",
              "size": 10,
              "solidity": 0.2
             }
            },
            "type": "bar"
           }
          ],
          "barpolar": [
           {
            "marker": {
             "line": {
              "color": "#E5ECF6",
              "width": 0.5
             },
             "pattern": {
              "fillmode": "overlay",
              "size": 10,
              "solidity": 0.2
             }
            },
            "type": "barpolar"
           }
          ],
          "carpet": [
           {
            "aaxis": {
             "endlinecolor": "#2a3f5f",
             "gridcolor": "white",
             "linecolor": "white",
             "minorgridcolor": "white",
             "startlinecolor": "#2a3f5f"
            },
            "baxis": {
             "endlinecolor": "#2a3f5f",
             "gridcolor": "white",
             "linecolor": "white",
             "minorgridcolor": "white",
             "startlinecolor": "#2a3f5f"
            },
            "type": "carpet"
           }
          ],
          "choropleth": [
           {
            "colorbar": {
             "outlinewidth": 0,
             "ticks": ""
            },
            "type": "choropleth"
           }
          ],
          "contour": [
           {
            "colorbar": {
             "outlinewidth": 0,
             "ticks": ""
            },
            "colorscale": [
             [
              0,
              "#0d0887"
             ],
             [
              0.1111111111111111,
              "#46039f"
             ],
             [
              0.2222222222222222,
              "#7201a8"
             ],
             [
              0.3333333333333333,
              "#9c179e"
             ],
             [
              0.4444444444444444,
              "#bd3786"
             ],
             [
              0.5555555555555556,
              "#d8576b"
             ],
             [
              0.6666666666666666,
              "#ed7953"
             ],
             [
              0.7777777777777778,
              "#fb9f3a"
             ],
             [
              0.8888888888888888,
              "#fdca26"
             ],
             [
              1,
              "#f0f921"
             ]
            ],
            "type": "contour"
           }
          ],
          "contourcarpet": [
           {
            "colorbar": {
             "outlinewidth": 0,
             "ticks": ""
            },
            "type": "contourcarpet"
           }
          ],
          "heatmap": [
           {
            "colorbar": {
             "outlinewidth": 0,
             "ticks": ""
            },
            "colorscale": [
             [
              0,
              "#0d0887"
             ],
             [
              0.1111111111111111,
              "#46039f"
             ],
             [
              0.2222222222222222,
              "#7201a8"
             ],
             [
              0.3333333333333333,
              "#9c179e"
             ],
             [
              0.4444444444444444,
              "#bd3786"
             ],
             [
              0.5555555555555556,
              "#d8576b"
             ],
             [
              0.6666666666666666,
              "#ed7953"
             ],
             [
              0.7777777777777778,
              "#fb9f3a"
             ],
             [
              0.8888888888888888,
              "#fdca26"
             ],
             [
              1,
              "#f0f921"
             ]
            ],
            "type": "heatmap"
           }
          ],
          "heatmapgl": [
           {
            "colorbar": {
             "outlinewidth": 0,
             "ticks": ""
            },
            "colorscale": [
             [
              0,
              "#0d0887"
             ],
             [
              0.1111111111111111,
              "#46039f"
             ],
             [
              0.2222222222222222,
              "#7201a8"
             ],
             [
              0.3333333333333333,
              "#9c179e"
             ],
             [
              0.4444444444444444,
              "#bd3786"
             ],
             [
              0.5555555555555556,
              "#d8576b"
             ],
             [
              0.6666666666666666,
              "#ed7953"
             ],
             [
              0.7777777777777778,
              "#fb9f3a"
             ],
             [
              0.8888888888888888,
              "#fdca26"
             ],
             [
              1,
              "#f0f921"
             ]
            ],
            "type": "heatmapgl"
           }
          ],
          "histogram": [
           {
            "marker": {
             "pattern": {
              "fillmode": "overlay",
              "size": 10,
              "solidity": 0.2
             }
            },
            "type": "histogram"
           }
          ],
          "histogram2d": [
           {
            "colorbar": {
             "outlinewidth": 0,
             "ticks": ""
            },
            "colorscale": [
             [
              0,
              "#0d0887"
             ],
             [
              0.1111111111111111,
              "#46039f"
             ],
             [
              0.2222222222222222,
              "#7201a8"
             ],
             [
              0.3333333333333333,
              "#9c179e"
             ],
             [
              0.4444444444444444,
              "#bd3786"
             ],
             [
              0.5555555555555556,
              "#d8576b"
             ],
             [
              0.6666666666666666,
              "#ed7953"
             ],
             [
              0.7777777777777778,
              "#fb9f3a"
             ],
             [
              0.8888888888888888,
              "#fdca26"
             ],
             [
              1,
              "#f0f921"
             ]
            ],
            "type": "histogram2d"
           }
          ],
          "histogram2dcontour": [
           {
            "colorbar": {
             "outlinewidth": 0,
             "ticks": ""
            },
            "colorscale": [
             [
              0,
              "#0d0887"
             ],
             [
              0.1111111111111111,
              "#46039f"
             ],
             [
              0.2222222222222222,
              "#7201a8"
             ],
             [
              0.3333333333333333,
              "#9c179e"
             ],
             [
              0.4444444444444444,
              "#bd3786"
             ],
             [
              0.5555555555555556,
              "#d8576b"
             ],
             [
              0.6666666666666666,
              "#ed7953"
             ],
             [
              0.7777777777777778,
              "#fb9f3a"
             ],
             [
              0.8888888888888888,
              "#fdca26"
             ],
             [
              1,
              "#f0f921"
             ]
            ],
            "type": "histogram2dcontour"
           }
          ],
          "mesh3d": [
           {
            "colorbar": {
             "outlinewidth": 0,
             "ticks": ""
            },
            "type": "mesh3d"
           }
          ],
          "parcoords": [
           {
            "line": {
             "colorbar": {
              "outlinewidth": 0,
              "ticks": ""
             }
            },
            "type": "parcoords"
           }
          ],
          "pie": [
           {
            "automargin": true,
            "type": "pie"
           }
          ],
          "scatter": [
           {
            "fillpattern": {
             "fillmode": "overlay",
             "size": 10,
             "solidity": 0.2
            },
            "type": "scatter"
           }
          ],
          "scatter3d": [
           {
            "line": {
             "colorbar": {
              "outlinewidth": 0,
              "ticks": ""
             }
            },
            "marker": {
             "colorbar": {
              "outlinewidth": 0,
              "ticks": ""
             }
            },
            "type": "scatter3d"
           }
          ],
          "scattercarpet": [
           {
            "marker": {
             "colorbar": {
              "outlinewidth": 0,
              "ticks": ""
             }
            },
            "type": "scattercarpet"
           }
          ],
          "scattergeo": [
           {
            "marker": {
             "colorbar": {
              "outlinewidth": 0,
              "ticks": ""
             }
            },
            "type": "scattergeo"
           }
          ],
          "scattergl": [
           {
            "marker": {
             "colorbar": {
              "outlinewidth": 0,
              "ticks": ""
             }
            },
            "type": "scattergl"
           }
          ],
          "scattermapbox": [
           {
            "marker": {
             "colorbar": {
              "outlinewidth": 0,
              "ticks": ""
             }
            },
            "type": "scattermapbox"
           }
          ],
          "scatterpolar": [
           {
            "marker": {
             "colorbar": {
              "outlinewidth": 0,
              "ticks": ""
             }
            },
            "type": "scatterpolar"
           }
          ],
          "scatterpolargl": [
           {
            "marker": {
             "colorbar": {
              "outlinewidth": 0,
              "ticks": ""
             }
            },
            "type": "scatterpolargl"
           }
          ],
          "scatterternary": [
           {
            "marker": {
             "colorbar": {
              "outlinewidth": 0,
              "ticks": ""
             }
            },
            "type": "scatterternary"
           }
          ],
          "surface": [
           {
            "colorbar": {
             "outlinewidth": 0,
             "ticks": ""
            },
            "colorscale": [
             [
              0,
              "#0d0887"
             ],
             [
              0.1111111111111111,
              "#46039f"
             ],
             [
              0.2222222222222222,
              "#7201a8"
             ],
             [
              0.3333333333333333,
              "#9c179e"
             ],
             [
              0.4444444444444444,
              "#bd3786"
             ],
             [
              0.5555555555555556,
              "#d8576b"
             ],
             [
              0.6666666666666666,
              "#ed7953"
             ],
             [
              0.7777777777777778,
              "#fb9f3a"
             ],
             [
              0.8888888888888888,
              "#fdca26"
             ],
             [
              1,
              "#f0f921"
             ]
            ],
            "type": "surface"
           }
          ],
          "table": [
           {
            "cells": {
             "fill": {
              "color": "#EBF0F8"
             },
             "line": {
              "color": "white"
             }
            },
            "header": {
             "fill": {
              "color": "#C8D4E3"
             },
             "line": {
              "color": "white"
             }
            },
            "type": "table"
           }
          ]
         },
         "layout": {
          "annotationdefaults": {
           "arrowcolor": "#2a3f5f",
           "arrowhead": 0,
           "arrowwidth": 1
          },
          "autotypenumbers": "strict",
          "coloraxis": {
           "colorbar": {
            "outlinewidth": 0,
            "ticks": ""
           }
          },
          "colorscale": {
           "diverging": [
            [
             0,
             "#8e0152"
            ],
            [
             0.1,
             "#c51b7d"
            ],
            [
             0.2,
             "#de77ae"
            ],
            [
             0.3,
             "#f1b6da"
            ],
            [
             0.4,
             "#fde0ef"
            ],
            [
             0.5,
             "#f7f7f7"
            ],
            [
             0.6,
             "#e6f5d0"
            ],
            [
             0.7,
             "#b8e186"
            ],
            [
             0.8,
             "#7fbc41"
            ],
            [
             0.9,
             "#4d9221"
            ],
            [
             1,
             "#276419"
            ]
           ],
           "sequential": [
            [
             0,
             "#0d0887"
            ],
            [
             0.1111111111111111,
             "#46039f"
            ],
            [
             0.2222222222222222,
             "#7201a8"
            ],
            [
             0.3333333333333333,
             "#9c179e"
            ],
            [
             0.4444444444444444,
             "#bd3786"
            ],
            [
             0.5555555555555556,
             "#d8576b"
            ],
            [
             0.6666666666666666,
             "#ed7953"
            ],
            [
             0.7777777777777778,
             "#fb9f3a"
            ],
            [
             0.8888888888888888,
             "#fdca26"
            ],
            [
             1,
             "#f0f921"
            ]
           ],
           "sequentialminus": [
            [
             0,
             "#0d0887"
            ],
            [
             0.1111111111111111,
             "#46039f"
            ],
            [
             0.2222222222222222,
             "#7201a8"
            ],
            [
             0.3333333333333333,
             "#9c179e"
            ],
            [
             0.4444444444444444,
             "#bd3786"
            ],
            [
             0.5555555555555556,
             "#d8576b"
            ],
            [
             0.6666666666666666,
             "#ed7953"
            ],
            [
             0.7777777777777778,
             "#fb9f3a"
            ],
            [
             0.8888888888888888,
             "#fdca26"
            ],
            [
             1,
             "#f0f921"
            ]
           ]
          },
          "colorway": [
           "#636efa",
           "#EF553B",
           "#00cc96",
           "#ab63fa",
           "#FFA15A",
           "#19d3f3",
           "#FF6692",
           "#B6E880",
           "#FF97FF",
           "#FECB52"
          ],
          "font": {
           "color": "#2a3f5f"
          },
          "geo": {
           "bgcolor": "white",
           "lakecolor": "white",
           "landcolor": "#E5ECF6",
           "showlakes": true,
           "showland": true,
           "subunitcolor": "white"
          },
          "hoverlabel": {
           "align": "left"
          },
          "hovermode": "closest",
          "mapbox": {
           "style": "light"
          },
          "paper_bgcolor": "white",
          "plot_bgcolor": "#E5ECF6",
          "polar": {
           "angularaxis": {
            "gridcolor": "white",
            "linecolor": "white",
            "ticks": ""
           },
           "bgcolor": "#E5ECF6",
           "radialaxis": {
            "gridcolor": "white",
            "linecolor": "white",
            "ticks": ""
           }
          },
          "scene": {
           "xaxis": {
            "backgroundcolor": "#E5ECF6",
            "gridcolor": "white",
            "gridwidth": 2,
            "linecolor": "white",
            "showbackground": true,
            "ticks": "",
            "zerolinecolor": "white"
           },
           "yaxis": {
            "backgroundcolor": "#E5ECF6",
            "gridcolor": "white",
            "gridwidth": 2,
            "linecolor": "white",
            "showbackground": true,
            "ticks": "",
            "zerolinecolor": "white"
           },
           "zaxis": {
            "backgroundcolor": "#E5ECF6",
            "gridcolor": "white",
            "gridwidth": 2,
            "linecolor": "white",
            "showbackground": true,
            "ticks": "",
            "zerolinecolor": "white"
           }
          },
          "shapedefaults": {
           "line": {
            "color": "#2a3f5f"
           }
          },
          "ternary": {
           "aaxis": {
            "gridcolor": "white",
            "linecolor": "white",
            "ticks": ""
           },
           "baxis": {
            "gridcolor": "white",
            "linecolor": "white",
            "ticks": ""
           },
           "bgcolor": "#E5ECF6",
           "caxis": {
            "gridcolor": "white",
            "linecolor": "white",
            "ticks": ""
           }
          },
          "title": {
           "x": 0.05
          },
          "xaxis": {
           "automargin": true,
           "gridcolor": "white",
           "linecolor": "white",
           "ticks": "",
           "title": {
            "standoff": 15
           },
           "zerolinecolor": "white",
           "zerolinewidth": 2
          },
          "yaxis": {
           "automargin": true,
           "gridcolor": "white",
           "linecolor": "white",
           "ticks": "",
           "title": {
            "standoff": 15
           },
           "zerolinecolor": "white",
           "zerolinewidth": 2
          }
         }
        },
        "title": {
         "text": "Speed-score trade-off of tree-based ensembles",
         "x": 0.5
        },
        "xaxis": {
         "anchor": "y",
         "domain": [
          0,
          0.45
         ],
         "matches": "x5",
         "showticklabels": false
        },
        "xaxis2": {
         "anchor": "y2",
         "domain": [
          0.55,
          1
         ],
         "matches": "x6",
         "showticklabels": false
        },
        "xaxis3": {
         "anchor": "y3",
         "domain": [
          0,
          0.45
         ],
         "matches": "x5",
         "showticklabels": false
        },
        "xaxis4": {
         "anchor": "y4",
         "domain": [
          0.55,
          1
         ],
         "matches": "x6",
         "showticklabels": false
        },
        "xaxis5": {
         "anchor": "y5",
         "domain": [
          0,
          0.45
         ]
        },
        "xaxis6": {
         "anchor": "y6",
         "domain": [
          0.55,
          1
         ]
        },
        "yaxis": {
         "anchor": "x",
         "domain": [
          0.7777777777777778,
          1
         ]
        },
        "yaxis2": {
         "anchor": "x2",
         "domain": [
          0.7777777777777778,
          1
         ],
         "matches": "y",
         "showticklabels": false
        },
        "yaxis3": {
         "anchor": "x3",
         "domain": [
          0.3888888888888889,
          0.6111111111111112
         ]
        },
        "yaxis4": {
         "anchor": "x4",
         "domain": [
          0.3888888888888889,
          0.6111111111111112
         ],
         "matches": "y3",
         "showticklabels": false
        },
        "yaxis5": {
         "anchor": "x5",
         "domain": [
          0,
          0.22222222222222224
         ]
        },
        "yaxis6": {
         "anchor": "x6",
         "domain": [
          0,
          0.22222222222222224
         ],
         "matches": "y5",
         "showticklabels": false
        }
       }
      }
     },
     "metadata": {},
     "output_type": "display_data"
    }
   ],
   "source": [
    "fig = make_subplots(\n",
    "    rows=3,\n",
    "    cols=2,\n",
    "    shared_xaxes=True,\n",
    "    shared_yaxes=True,\n",
    "    x_title=\"Train time (s)                                                                Predict time (s)\",\n",
    "    y_title=\"Test R2 score - higher is better\",\n",
    "    subplot_titles=[\"Train time vs score\", \"Predict time vs score\"],\n",
    ")\n",
    "model_names = [result[\"model\"] for result in results]\n",
    "colors_list = colors.qualitative.Plotly * (\n",
    "    len(model_names) // len(colors.qualitative.Plotly) + 1\n",
    ")\n",
    "\n",
    "for idx, result in enumerate(results):\n",
    "    cv_results = result[\"cv_results\"].round(3)\n",
    "    model_name = result[\"model\"]\n",
    "    param_name = list(param_grids[model_name].keys())[0]\n",
    "    cv_results[param_name] = cv_results[\"param_classifier__\" + param_name]\n",
    "    cv_results[\"model\"] = model_name\n",
    "\n",
    "    cv_results_1 = cv_results[(cv_results[\"param_classifier__max_depth\"] == 3)]\n",
    "    \n",
    "    scatter_fig = go.Scatter(\n",
    "        x=cv_results_1[\"mean_fit_time\"],\n",
    "        y=cv_results_1[\"mean_test_score\"],\n",
    "        error_x= dict(type='percent', array=cv_results_1[\"std_fit_time\"]),\n",
    "        error_y= dict(type='percent', array=cv_results_1[\"std_test_score\"]),\n",
    "        marker=dict(color=colors_list[idx]),\n",
    "        legendgroup=model_name,\n",
    "        name = model_name,\n",
    "    )\n",
    "    fig.add_trace(scatter_fig, row=1, col=1)\n",
    "    \n",
    "    scatter_fig = go.Scatter(\n",
    "        x=cv_results_1[\"mean_score_time\"],\n",
    "        y=cv_results_1[\"mean_test_score\"],\n",
    "        error_x= dict(type='percent', array=cv_results_1[\"std_score_time\"]),\n",
    "        error_y= dict(type='percent', array=cv_results_1[\"std_test_score\"]),\n",
    "        marker=dict(color=colors_list[idx]),\n",
    "        legendgroup=model_name,\n",
    "        showlegend = False\n",
    "    )\n",
    "    fig.add_trace(scatter_fig, row=1, col=2)\n",
    "\n",
    "    cv_results_2 = cv_results[(cv_results[\"param_classifier__max_depth\"] == 6) | (cv_results[\"param_classifier__max_depth\"].isna())]\n",
    "\n",
    "    scatter_fig = go.Scatter(\n",
    "        x=cv_results_2[\"mean_fit_time\"],\n",
    "        y=cv_results_2[\"mean_test_score\"],\n",
    "        error_x= dict(type='percent', array=cv_results_2[\"std_fit_time\"]),\n",
    "        error_y= dict(type='percent', array=cv_results_2[\"std_test_score\"]),\n",
    "        marker=dict(color=colors_list[idx]),\n",
    "        legendgroup=model_name,\n",
    "        showlegend = False\n",
    "    )\n",
    "    fig.add_trace(scatter_fig, row=2, col=1)\n",
    "    \n",
    "    scatter_fig = go.Scatter(\n",
    "        x=cv_results_2[\"mean_score_time\"],\n",
    "        y=cv_results_2[\"mean_test_score\"],\n",
    "        error_x= dict(type='percent', array=cv_results_2[\"std_score_time\"]),\n",
    "        error_y= dict(type='percent', array=cv_results_2[\"std_test_score\"]),\n",
    "        marker=dict(color=colors_list[idx]),\n",
    "        legendgroup=model_name,\n",
    "        showlegend = False\n",
    "    )\n",
    "    fig.add_trace(scatter_fig, row=2, col=2)\n",
    "\n",
    "    cv_results_3 = cv_results[(cv_results[\"param_classifier__max_depth\"] == 9)]\n",
    "\n",
    "    scatter_fig = go.Scatter(\n",
    "        x=cv_results_3[\"mean_fit_time\"],\n",
    "        y=cv_results_3[\"mean_test_score\"],\n",
    "        error_x= dict(type='percent', array=cv_results_3[\"std_fit_time\"]),\n",
    "        error_y= dict(type='percent', array=cv_results_3[\"std_test_score\"]),\n",
    "        marker=dict(color=colors_list[idx]),\n",
    "        legendgroup=model_name,\n",
    "        showlegend = False\n",
    "    )\n",
    "    fig.add_trace(scatter_fig, row=3, col=1)\n",
    "    \n",
    "    scatter_fig = go.Scatter(\n",
    "        x=cv_results_3[\"mean_score_time\"],\n",
    "        y=cv_results_3[\"mean_test_score\"],\n",
    "        error_x= dict(type='percent', array=cv_results_3[\"std_score_time\"]),\n",
    "        error_y= dict(type='percent', array=cv_results_3[\"std_test_score\"]),\n",
    "        marker=dict(color=colors_list[idx]),\n",
    "        legendgroup=model_name,\n",
    "        showlegend = False\n",
    "    )\n",
    "    fig.add_trace(scatter_fig, row=3, col=2)\n",
    "\n",
    "\n",
    "fig.update_layout(\n",
    "    legend=dict(x=1, y=0.01, traceorder=\"normal\", borderwidth=1),\n",
    "    title=dict(x=0.5, text=\"Speed-score trade-off of tree-based ensembles\"),\n",
    "    height = 500\n",
    ") \n",
    "\n",
    "\n",
    "fig.show()"
   ]
  },
  {
   "cell_type": "code",
   "execution_count": null,
   "metadata": {},
   "outputs": [],
   "source": []
  }
 ],
 "metadata": {
  "kernelspec": {
   "display_name": "Python 3",
   "language": "python",
   "name": "python3"
  },
  "language_info": {
   "codemirror_mode": {
    "name": "ipython",
    "version": 3
   },
   "file_extension": ".py",
   "mimetype": "text/x-python",
   "name": "python",
   "nbconvert_exporter": "python",
   "pygments_lexer": "ipython3",
   "version": "3.11.4"
  }
 },
 "nbformat": 4,
 "nbformat_minor": 2
}
