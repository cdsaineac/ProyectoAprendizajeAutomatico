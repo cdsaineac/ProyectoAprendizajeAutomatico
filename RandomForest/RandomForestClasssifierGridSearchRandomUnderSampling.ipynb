{
 "cells": [
  {
   "cell_type": "code",
   "execution_count": 2,
   "metadata": {},
   "outputs": [],
   "source": [
    "import pandas as pd\n",
    "import joblib\n",
    "from sklearn.compose import ColumnTransformer\n",
    "from sklearn.ensemble import RandomForestClassifier\n",
    "from sklearn.metrics import classification_report\n",
    "from sklearn.model_selection import train_test_split\n",
    "from sklearn.preprocessing import OneHotEncoder, StandardScaler\n",
    "from sklearn.model_selection import RandomizedSearchCV,GridSearchCV\n",
    "from imblearn.pipeline import Pipeline as ImbPipeline\n",
    "from imblearn.over_sampling import SMOTE\n",
    "from imblearn.under_sampling import RandomUnderSampler\n",
    "from sklearn.base import BaseEstimator, TransformerMixin"
   ]
  },
  {
   "cell_type": "code",
   "execution_count": 3,
   "metadata": {},
   "outputs": [
    {
     "data": {
      "text/plain": [
       "(6349701, 9)"
      ]
     },
     "execution_count": 3,
     "metadata": {},
     "output_type": "execute_result"
    }
   ],
   "source": [
    "# Cargar datos preprocesados\n",
    "covid_data = pd.read_csv(\"../covid19_clean_data.csv\", index_col=0)\n",
    "covid_data.shape"
   ]
  },
  {
   "cell_type": "code",
   "execution_count": 4,
   "metadata": {},
   "outputs": [],
   "source": [
    "# Separar las caracteristicas de las clases \n",
    "X = covid_data.drop(\"estado\", axis=1)\n",
    "y = covid_data[\"estado\"]"
   ]
  },
  {
   "cell_type": "code",
   "execution_count": 5,
   "metadata": {},
   "outputs": [],
   "source": [
    "# Crear datasets de entrenamiento(80%) y validación(20%). \n",
    "X_train, X_test, y_train, y_test = train_test_split(\n",
    "   X, y, test_size=0.2, random_state=42\n",
    ")"
   ]
  },
  {
   "cell_type": "code",
   "execution_count": 6,
   "metadata": {},
   "outputs": [],
   "source": [
    "# Definición de variables categoricas a usar en el modelo\n",
    "    # Se excluye la variable de municipio pues el modelo considera la variable no relevante\n",
    "categorical_features = ['sexo', 'tipo_contagio', 'rango_edad','asintomatico']#,'departamento','municipio'\n",
    "\n",
    "# Definición de variables númericas a usar en el modelo\n",
    "    # Excluye asintomatico pues el modelo considera la variable no relevante\n",
    "    # Excluye id_caso pues no infiere en la clasificacón del estado\n",
    "numerical_features = ['edad'] \n",
    "\n",
    "# Preprocesamiento de las caracteristicas categoricas y númericas definidas previamente\n",
    "preprocessor = ColumnTransformer(\n",
    "   transformers=[\n",
    "       (\"cat\", OneHotEncoder(), categorical_features),\n",
    "       (\"num\", StandardScaler(), numerical_features),\n",
    "   ]\n",
    ")"
   ]
  },
  {
   "cell_type": "markdown",
   "metadata": {},
   "source": [
    "# Creación de flujo de trabajo que seguirá el modelo"
   ]
  },
  {
   "cell_type": "code",
   "execution_count": 7,
   "metadata": {},
   "outputs": [],
   "source": [
    "pipeline = ImbPipeline(\n",
    "   [\n",
    "       ('undersampling', RandomUnderSampler(sampling_strategy = 'majority', random_state=42)),\n",
    "       (\"preprocessor\", preprocessor),\n",
    "       (\"classifier\", RandomForestClassifier(random_state=42))\n",
    "   ],\n",
    "   verbose=True\n",
    ")"
   ]
  },
  {
   "cell_type": "code",
   "execution_count": 8,
   "metadata": {},
   "outputs": [],
   "source": [
    "grid =  GridSearchCV(\n",
    "    pipeline,\n",
    "    param_grid = { \n",
    "        'classifier__n_estimators': [50,100,150], \n",
    "        'classifier__max_depth': [3, 6, 9], \n",
    "        'classifier__max_leaf_nodes': [3, 6, 9]},\n",
    "    n_jobs=-1,\n",
    "    cv=3,\n",
    "    error_score='raise'\n",
    "    \n",
    ")"
   ]
  },
  {
   "cell_type": "code",
   "execution_count": 9,
   "metadata": {},
   "outputs": [
    {
     "name": "stdout",
     "output_type": "stream",
     "text": [
      "[Pipeline] ..... (step 1 of 3) Processing undersampling, total=  53.0s\n",
      "[Pipeline] ...... (step 2 of 3) Processing preprocessor, total=   0.3s\n",
      "[Pipeline] ........ (step 3 of 3) Processing classifier, total=   9.8s\n"
     ]
    },
    {
     "data": {
      "text/html": [
       "<style>#sk-container-id-1 {color: black;}#sk-container-id-1 pre{padding: 0;}#sk-container-id-1 div.sk-toggleable {background-color: white;}#sk-container-id-1 label.sk-toggleable__label {cursor: pointer;display: block;width: 100%;margin-bottom: 0;padding: 0.3em;box-sizing: border-box;text-align: center;}#sk-container-id-1 label.sk-toggleable__label-arrow:before {content: \"▸\";float: left;margin-right: 0.25em;color: #696969;}#sk-container-id-1 label.sk-toggleable__label-arrow:hover:before {color: black;}#sk-container-id-1 div.sk-estimator:hover label.sk-toggleable__label-arrow:before {color: black;}#sk-container-id-1 div.sk-toggleable__content {max-height: 0;max-width: 0;overflow: hidden;text-align: left;background-color: #f0f8ff;}#sk-container-id-1 div.sk-toggleable__content pre {margin: 0.2em;color: black;border-radius: 0.25em;background-color: #f0f8ff;}#sk-container-id-1 input.sk-toggleable__control:checked~div.sk-toggleable__content {max-height: 200px;max-width: 100%;overflow: auto;}#sk-container-id-1 input.sk-toggleable__control:checked~label.sk-toggleable__label-arrow:before {content: \"▾\";}#sk-container-id-1 div.sk-estimator input.sk-toggleable__control:checked~label.sk-toggleable__label {background-color: #d4ebff;}#sk-container-id-1 div.sk-label input.sk-toggleable__control:checked~label.sk-toggleable__label {background-color: #d4ebff;}#sk-container-id-1 input.sk-hidden--visually {border: 0;clip: rect(1px 1px 1px 1px);clip: rect(1px, 1px, 1px, 1px);height: 1px;margin: -1px;overflow: hidden;padding: 0;position: absolute;width: 1px;}#sk-container-id-1 div.sk-estimator {font-family: monospace;background-color: #f0f8ff;border: 1px dotted black;border-radius: 0.25em;box-sizing: border-box;margin-bottom: 0.5em;}#sk-container-id-1 div.sk-estimator:hover {background-color: #d4ebff;}#sk-container-id-1 div.sk-parallel-item::after {content: \"\";width: 100%;border-bottom: 1px solid gray;flex-grow: 1;}#sk-container-id-1 div.sk-label:hover label.sk-toggleable__label {background-color: #d4ebff;}#sk-container-id-1 div.sk-serial::before {content: \"\";position: absolute;border-left: 1px solid gray;box-sizing: border-box;top: 0;bottom: 0;left: 50%;z-index: 0;}#sk-container-id-1 div.sk-serial {display: flex;flex-direction: column;align-items: center;background-color: white;padding-right: 0.2em;padding-left: 0.2em;position: relative;}#sk-container-id-1 div.sk-item {position: relative;z-index: 1;}#sk-container-id-1 div.sk-parallel {display: flex;align-items: stretch;justify-content: center;background-color: white;position: relative;}#sk-container-id-1 div.sk-item::before, #sk-container-id-1 div.sk-parallel-item::before {content: \"\";position: absolute;border-left: 1px solid gray;box-sizing: border-box;top: 0;bottom: 0;left: 50%;z-index: -1;}#sk-container-id-1 div.sk-parallel-item {display: flex;flex-direction: column;z-index: 1;position: relative;background-color: white;}#sk-container-id-1 div.sk-parallel-item:first-child::after {align-self: flex-end;width: 50%;}#sk-container-id-1 div.sk-parallel-item:last-child::after {align-self: flex-start;width: 50%;}#sk-container-id-1 div.sk-parallel-item:only-child::after {width: 0;}#sk-container-id-1 div.sk-dashed-wrapped {border: 1px dashed gray;margin: 0 0.4em 0.5em 0.4em;box-sizing: border-box;padding-bottom: 0.4em;background-color: white;}#sk-container-id-1 div.sk-label label {font-family: monospace;font-weight: bold;display: inline-block;line-height: 1.2em;}#sk-container-id-1 div.sk-label-container {text-align: center;}#sk-container-id-1 div.sk-container {/* jupyter's `normalize.less` sets `[hidden] { display: none; }` but bootstrap.min.css set `[hidden] { display: none !important; }` so we also need the `!important` here to be able to override the default hidden behavior on the sphinx rendered scikit-learn.org. See: https://github.com/scikit-learn/scikit-learn/issues/21755 */display: inline-block !important;position: relative;}#sk-container-id-1 div.sk-text-repr-fallback {display: none;}</style><div id=\"sk-container-id-1\" class=\"sk-top-container\"><div class=\"sk-text-repr-fallback\"><pre>GridSearchCV(cv=3,\n",
       "             estimator=Pipeline(steps=[(&#x27;undersampling&#x27;,\n",
       "                                        RandomUnderSampler(random_state=42,\n",
       "                                                           sampling_strategy=&#x27;majority&#x27;)),\n",
       "                                       (&#x27;preprocessor&#x27;,\n",
       "                                        ColumnTransformer(transformers=[(&#x27;cat&#x27;,\n",
       "                                                                         OneHotEncoder(),\n",
       "                                                                         [&#x27;sexo&#x27;,\n",
       "                                                                          &#x27;tipo_contagio&#x27;,\n",
       "                                                                          &#x27;rango_edad&#x27;,\n",
       "                                                                          &#x27;asintomatico&#x27;]),\n",
       "                                                                        (&#x27;num&#x27;,\n",
       "                                                                         StandardScaler(),\n",
       "                                                                         [&#x27;edad&#x27;])])),\n",
       "                                       (&#x27;classifier&#x27;,\n",
       "                                        RandomForestClassifier(random_state=42))],\n",
       "                                verbose=True),\n",
       "             n_jobs=-1,\n",
       "             param_grid={&#x27;classifier__max_depth&#x27;: [3, 6, 9],\n",
       "                         &#x27;classifier__max_leaf_nodes&#x27;: [3, 6, 9],\n",
       "                         &#x27;classifier__n_estimators&#x27;: [50, 100, 150]})</pre><b>In a Jupyter environment, please rerun this cell to show the HTML representation or trust the notebook. <br />On GitHub, the HTML representation is unable to render, please try loading this page with nbviewer.org.</b></div><div class=\"sk-container\" hidden><div class=\"sk-item sk-dashed-wrapped\"><div class=\"sk-label-container\"><div class=\"sk-label sk-toggleable\"><input class=\"sk-toggleable__control sk-hidden--visually\" id=\"sk-estimator-id-1\" type=\"checkbox\" ><label for=\"sk-estimator-id-1\" class=\"sk-toggleable__label sk-toggleable__label-arrow\">GridSearchCV</label><div class=\"sk-toggleable__content\"><pre>GridSearchCV(cv=3,\n",
       "             estimator=Pipeline(steps=[(&#x27;undersampling&#x27;,\n",
       "                                        RandomUnderSampler(random_state=42,\n",
       "                                                           sampling_strategy=&#x27;majority&#x27;)),\n",
       "                                       (&#x27;preprocessor&#x27;,\n",
       "                                        ColumnTransformer(transformers=[(&#x27;cat&#x27;,\n",
       "                                                                         OneHotEncoder(),\n",
       "                                                                         [&#x27;sexo&#x27;,\n",
       "                                                                          &#x27;tipo_contagio&#x27;,\n",
       "                                                                          &#x27;rango_edad&#x27;,\n",
       "                                                                          &#x27;asintomatico&#x27;]),\n",
       "                                                                        (&#x27;num&#x27;,\n",
       "                                                                         StandardScaler(),\n",
       "                                                                         [&#x27;edad&#x27;])])),\n",
       "                                       (&#x27;classifier&#x27;,\n",
       "                                        RandomForestClassifier(random_state=42))],\n",
       "                                verbose=True),\n",
       "             n_jobs=-1,\n",
       "             param_grid={&#x27;classifier__max_depth&#x27;: [3, 6, 9],\n",
       "                         &#x27;classifier__max_leaf_nodes&#x27;: [3, 6, 9],\n",
       "                         &#x27;classifier__n_estimators&#x27;: [50, 100, 150]})</pre></div></div></div><div class=\"sk-parallel\"><div class=\"sk-parallel-item\"><div class=\"sk-item\"><div class=\"sk-label-container\"><div class=\"sk-label sk-toggleable\"><input class=\"sk-toggleable__control sk-hidden--visually\" id=\"sk-estimator-id-2\" type=\"checkbox\" ><label for=\"sk-estimator-id-2\" class=\"sk-toggleable__label sk-toggleable__label-arrow\">estimator: Pipeline</label><div class=\"sk-toggleable__content\"><pre>Pipeline(steps=[(&#x27;undersampling&#x27;,\n",
       "                 RandomUnderSampler(random_state=42,\n",
       "                                    sampling_strategy=&#x27;majority&#x27;)),\n",
       "                (&#x27;preprocessor&#x27;,\n",
       "                 ColumnTransformer(transformers=[(&#x27;cat&#x27;, OneHotEncoder(),\n",
       "                                                  [&#x27;sexo&#x27;, &#x27;tipo_contagio&#x27;,\n",
       "                                                   &#x27;rango_edad&#x27;,\n",
       "                                                   &#x27;asintomatico&#x27;]),\n",
       "                                                 (&#x27;num&#x27;, StandardScaler(),\n",
       "                                                  [&#x27;edad&#x27;])])),\n",
       "                (&#x27;classifier&#x27;, RandomForestClassifier(random_state=42))],\n",
       "         verbose=True)</pre></div></div></div><div class=\"sk-serial\"><div class=\"sk-item\"><div class=\"sk-serial\"><div class=\"sk-item\"><div class=\"sk-estimator sk-toggleable\"><input class=\"sk-toggleable__control sk-hidden--visually\" id=\"sk-estimator-id-3\" type=\"checkbox\" ><label for=\"sk-estimator-id-3\" class=\"sk-toggleable__label sk-toggleable__label-arrow\">RandomUnderSampler</label><div class=\"sk-toggleable__content\"><pre>RandomUnderSampler(random_state=42, sampling_strategy=&#x27;majority&#x27;)</pre></div></div></div><div class=\"sk-item sk-dashed-wrapped\"><div class=\"sk-label-container\"><div class=\"sk-label sk-toggleable\"><input class=\"sk-toggleable__control sk-hidden--visually\" id=\"sk-estimator-id-4\" type=\"checkbox\" ><label for=\"sk-estimator-id-4\" class=\"sk-toggleable__label sk-toggleable__label-arrow\">preprocessor: ColumnTransformer</label><div class=\"sk-toggleable__content\"><pre>ColumnTransformer(transformers=[(&#x27;cat&#x27;, OneHotEncoder(),\n",
       "                                 [&#x27;sexo&#x27;, &#x27;tipo_contagio&#x27;, &#x27;rango_edad&#x27;,\n",
       "                                  &#x27;asintomatico&#x27;]),\n",
       "                                (&#x27;num&#x27;, StandardScaler(), [&#x27;edad&#x27;])])</pre></div></div></div><div class=\"sk-parallel\"><div class=\"sk-parallel-item\"><div class=\"sk-item\"><div class=\"sk-label-container\"><div class=\"sk-label sk-toggleable\"><input class=\"sk-toggleable__control sk-hidden--visually\" id=\"sk-estimator-id-5\" type=\"checkbox\" ><label for=\"sk-estimator-id-5\" class=\"sk-toggleable__label sk-toggleable__label-arrow\">cat</label><div class=\"sk-toggleable__content\"><pre>[&#x27;sexo&#x27;, &#x27;tipo_contagio&#x27;, &#x27;rango_edad&#x27;, &#x27;asintomatico&#x27;]</pre></div></div></div><div class=\"sk-serial\"><div class=\"sk-item\"><div class=\"sk-estimator sk-toggleable\"><input class=\"sk-toggleable__control sk-hidden--visually\" id=\"sk-estimator-id-6\" type=\"checkbox\" ><label for=\"sk-estimator-id-6\" class=\"sk-toggleable__label sk-toggleable__label-arrow\">OneHotEncoder</label><div class=\"sk-toggleable__content\"><pre>OneHotEncoder()</pre></div></div></div></div></div></div><div class=\"sk-parallel-item\"><div class=\"sk-item\"><div class=\"sk-label-container\"><div class=\"sk-label sk-toggleable\"><input class=\"sk-toggleable__control sk-hidden--visually\" id=\"sk-estimator-id-7\" type=\"checkbox\" ><label for=\"sk-estimator-id-7\" class=\"sk-toggleable__label sk-toggleable__label-arrow\">num</label><div class=\"sk-toggleable__content\"><pre>[&#x27;edad&#x27;]</pre></div></div></div><div class=\"sk-serial\"><div class=\"sk-item\"><div class=\"sk-estimator sk-toggleable\"><input class=\"sk-toggleable__control sk-hidden--visually\" id=\"sk-estimator-id-8\" type=\"checkbox\" ><label for=\"sk-estimator-id-8\" class=\"sk-toggleable__label sk-toggleable__label-arrow\">StandardScaler</label><div class=\"sk-toggleable__content\"><pre>StandardScaler()</pre></div></div></div></div></div></div></div></div><div class=\"sk-item\"><div class=\"sk-estimator sk-toggleable\"><input class=\"sk-toggleable__control sk-hidden--visually\" id=\"sk-estimator-id-9\" type=\"checkbox\" ><label for=\"sk-estimator-id-9\" class=\"sk-toggleable__label sk-toggleable__label-arrow\">RandomForestClassifier</label><div class=\"sk-toggleable__content\"><pre>RandomForestClassifier(random_state=42)</pre></div></div></div></div></div></div></div></div></div></div></div></div>"
      ],
      "text/plain": [
       "GridSearchCV(cv=3,\n",
       "             estimator=Pipeline(steps=[('undersampling',\n",
       "                                        RandomUnderSampler(random_state=42,\n",
       "                                                           sampling_strategy='majority')),\n",
       "                                       ('preprocessor',\n",
       "                                        ColumnTransformer(transformers=[('cat',\n",
       "                                                                         OneHotEncoder(),\n",
       "                                                                         ['sexo',\n",
       "                                                                          'tipo_contagio',\n",
       "                                                                          'rango_edad',\n",
       "                                                                          'asintomatico']),\n",
       "                                                                        ('num',\n",
       "                                                                         StandardScaler(),\n",
       "                                                                         ['edad'])])),\n",
       "                                       ('classifier',\n",
       "                                        RandomForestClassifier(random_state=42))],\n",
       "                                verbose=True),\n",
       "             n_jobs=-1,\n",
       "             param_grid={'classifier__max_depth': [3, 6, 9],\n",
       "                         'classifier__max_leaf_nodes': [3, 6, 9],\n",
       "                         'classifier__n_estimators': [50, 100, 150]})"
      ]
     },
     "execution_count": 9,
     "metadata": {},
     "output_type": "execute_result"
    }
   ],
   "source": [
    "# Fit the grid on the training data\n",
    "grid.fit(X_train, y_train)"
   ]
  },
  {
   "cell_type": "code",
   "execution_count": 26,
   "metadata": {},
   "outputs": [
    {
     "data": {
      "text/plain": [
       "['RandomForest_GridSearch_RandomUnderSampling.joblib']"
      ]
     },
     "execution_count": 26,
     "metadata": {},
     "output_type": "execute_result"
    }
   ],
   "source": [
    "# Save pipeline for future use without fitting\n",
    "joblib.dump(grid, 'RandomForest_GridSearch_RandomUnderSampling.joblib')"
   ]
  },
  {
   "cell_type": "code",
   "execution_count": 11,
   "metadata": {},
   "outputs": [
    {
     "data": {
      "text/plain": [
       "array(['Fallecido', 'Fallecido', 'Fallecido', ..., 'Fallecido',\n",
       "       'Fallecido', 'Fallecido'], dtype=object)"
      ]
     },
     "execution_count": 11,
     "metadata": {},
     "output_type": "execute_result"
    }
   ],
   "source": [
    "grid.predict(X_test)"
   ]
  },
  {
   "cell_type": "code",
   "execution_count": 27,
   "metadata": {},
   "outputs": [
    {
     "name": "stdout",
     "output_type": "stream",
     "text": [
      "{'mean_fit_time': array([36.11602354, 31.8939352 , 32.89264472, 32.0475409 , 35.4619085 ,\n",
      "       39.68661253, 32.4645013 , 34.41636952, 30.58216516, 26.15989923,\n",
      "       27.865237  , 29.92653433, 27.13145566, 28.71409233, 30.59904067,\n",
      "       28.31371133, 31.16075333, 30.86129816, 29.17408403, 33.29485345,\n",
      "       30.97092915, 28.73178458, 28.48341235, 32.81058423, 44.9598333 ,\n",
      "       47.74826733, 72.33506497]), 'std_fit_time': array([0.39324906, 2.81790942, 1.7370958 , 1.28099884, 1.81406246,\n",
      "       2.50600924, 1.19195304, 0.63013566, 1.26723385, 0.59292087,\n",
      "       0.92630935, 0.28464507, 1.14044639, 1.9146066 , 0.5244003 ,\n",
      "       0.77099364, 0.26833535, 0.9718227 , 1.96794885, 1.68489475,\n",
      "       0.53777751, 2.64860191, 1.38820191, 1.26606131, 3.70700289,\n",
      "       9.1714824 , 1.47619763]), 'mean_score_time': array([16.70767522, 25.76259637, 36.06296221, 17.55362781, 32.96679568,\n",
      "       39.86087513, 18.26853434, 26.88131126, 34.84853522, 14.69566774,\n",
      "       21.96897833, 31.22992524, 14.51218629, 25.15616504, 33.55408947,\n",
      "       15.83728544, 26.44672076, 35.48816307, 15.66960486, 25.64167245,\n",
      "       35.43875233, 14.95687485, 24.36328061, 50.4142886 , 23.23794031,\n",
      "       55.35028998, 64.11478734]), 'std_score_time': array([0.44083533, 0.85425949, 1.0365736 , 0.89230244, 0.77539525,\n",
      "       0.13656873, 1.19512955, 1.34304331, 1.59171819, 1.5943053 ,\n",
      "       0.20576573, 0.42761437, 1.09134344, 1.3071941 , 1.16642009,\n",
      "       0.65028498, 1.18912803, 1.63171937, 1.79335386, 3.16752572,\n",
      "       1.07733145, 1.37165791, 0.56085879, 4.90749455, 4.58288049,\n",
      "       3.47999709, 4.15834864]), 'param_classifier__max_depth': masked_array(data=[3, 3, 3, 3, 3, 3, 3, 3, 3, 6, 6, 6, 6, 6, 6, 6, 6, 6,\n",
      "                   9, 9, 9, 9, 9, 9, 9, 9, 9],\n",
      "             mask=[False, False, False, False, False, False, False, False,\n",
      "                   False, False, False, False, False, False, False, False,\n",
      "                   False, False, False, False, False, False, False, False,\n",
      "                   False, False, False],\n",
      "       fill_value='?',\n",
      "            dtype=object), 'param_classifier__max_leaf_nodes': masked_array(data=[3, 3, 3, 6, 6, 6, 9, 9, 9, 3, 3, 3, 6, 6, 6, 9, 9, 9,\n",
      "                   3, 3, 3, 6, 6, 6, 9, 9, 9],\n",
      "             mask=[False, False, False, False, False, False, False, False,\n",
      "                   False, False, False, False, False, False, False, False,\n",
      "                   False, False, False, False, False, False, False, False,\n",
      "                   False, False, False],\n",
      "       fill_value='?',\n",
      "            dtype=object), 'param_classifier__n_estimators': masked_array(data=[50, 100, 150, 50, 100, 150, 50, 100, 150, 50, 100, 150,\n",
      "                   50, 100, 150, 50, 100, 150, 50, 100, 150, 50, 100, 150,\n",
      "                   50, 100, 150],\n",
      "             mask=[False, False, False, False, False, False, False, False,\n",
      "                   False, False, False, False, False, False, False, False,\n",
      "                   False, False, False, False, False, False, False, False,\n",
      "                   False, False, False],\n",
      "       fill_value='?',\n",
      "            dtype=object), 'params': [{'classifier__max_depth': 3, 'classifier__max_leaf_nodes': 3, 'classifier__n_estimators': 50}, {'classifier__max_depth': 3, 'classifier__max_leaf_nodes': 3, 'classifier__n_estimators': 100}, {'classifier__max_depth': 3, 'classifier__max_leaf_nodes': 3, 'classifier__n_estimators': 150}, {'classifier__max_depth': 3, 'classifier__max_leaf_nodes': 6, 'classifier__n_estimators': 50}, {'classifier__max_depth': 3, 'classifier__max_leaf_nodes': 6, 'classifier__n_estimators': 100}, {'classifier__max_depth': 3, 'classifier__max_leaf_nodes': 6, 'classifier__n_estimators': 150}, {'classifier__max_depth': 3, 'classifier__max_leaf_nodes': 9, 'classifier__n_estimators': 50}, {'classifier__max_depth': 3, 'classifier__max_leaf_nodes': 9, 'classifier__n_estimators': 100}, {'classifier__max_depth': 3, 'classifier__max_leaf_nodes': 9, 'classifier__n_estimators': 150}, {'classifier__max_depth': 6, 'classifier__max_leaf_nodes': 3, 'classifier__n_estimators': 50}, {'classifier__max_depth': 6, 'classifier__max_leaf_nodes': 3, 'classifier__n_estimators': 100}, {'classifier__max_depth': 6, 'classifier__max_leaf_nodes': 3, 'classifier__n_estimators': 150}, {'classifier__max_depth': 6, 'classifier__max_leaf_nodes': 6, 'classifier__n_estimators': 50}, {'classifier__max_depth': 6, 'classifier__max_leaf_nodes': 6, 'classifier__n_estimators': 100}, {'classifier__max_depth': 6, 'classifier__max_leaf_nodes': 6, 'classifier__n_estimators': 150}, {'classifier__max_depth': 6, 'classifier__max_leaf_nodes': 9, 'classifier__n_estimators': 50}, {'classifier__max_depth': 6, 'classifier__max_leaf_nodes': 9, 'classifier__n_estimators': 100}, {'classifier__max_depth': 6, 'classifier__max_leaf_nodes': 9, 'classifier__n_estimators': 150}, {'classifier__max_depth': 9, 'classifier__max_leaf_nodes': 3, 'classifier__n_estimators': 50}, {'classifier__max_depth': 9, 'classifier__max_leaf_nodes': 3, 'classifier__n_estimators': 100}, {'classifier__max_depth': 9, 'classifier__max_leaf_nodes': 3, 'classifier__n_estimators': 150}, {'classifier__max_depth': 9, 'classifier__max_leaf_nodes': 6, 'classifier__n_estimators': 50}, {'classifier__max_depth': 9, 'classifier__max_leaf_nodes': 6, 'classifier__n_estimators': 100}, {'classifier__max_depth': 9, 'classifier__max_leaf_nodes': 6, 'classifier__n_estimators': 150}, {'classifier__max_depth': 9, 'classifier__max_leaf_nodes': 9, 'classifier__n_estimators': 50}, {'classifier__max_depth': 9, 'classifier__max_leaf_nodes': 9, 'classifier__n_estimators': 100}, {'classifier__max_depth': 9, 'classifier__max_leaf_nodes': 9, 'classifier__n_estimators': 150}], 'split0_test_score': array([0.02261445, 0.0225672 , 0.0225672 , 0.02261445, 0.02261445,\n",
      "       0.02261445, 0.02261445, 0.02261445, 0.02261445, 0.02261445,\n",
      "       0.0225672 , 0.0225672 , 0.02261445, 0.02261445, 0.02261445,\n",
      "       0.02261445, 0.02261445, 0.02261445, 0.02261445, 0.0225672 ,\n",
      "       0.0225672 , 0.02261445, 0.02261445, 0.02261445, 0.02261445,\n",
      "       0.02261445, 0.02261445]), 'split1_test_score': array([0.02261682, 0.0225678 , 0.0225678 , 0.03809118, 0.09762038,\n",
      "       0.06454735, 0.05525577, 0.09791744, 0.09745265, 0.02261682,\n",
      "       0.0225678 , 0.0225678 , 0.07072954, 0.09771133, 0.09452693,\n",
      "       0.09728021, 0.09817375, 0.09773554, 0.02261682, 0.0225678 ,\n",
      "       0.0225678 , 0.07072954, 0.09771133, 0.09452693, 0.09728021,\n",
      "       0.09809107, 0.09773554]), 'split2_test_score': array([0.02260442, 0.0225678 , 0.0225678 , 0.02311881, 0.10008369,\n",
      "       0.07575477, 0.02365742, 0.10032759, 0.09405092, 0.02260442,\n",
      "       0.0225678 , 0.0225678 , 0.07158529, 0.10001163, 0.09686916,\n",
      "       0.09441058, 0.100503  , 0.1003087 , 0.02260442, 0.0225678 ,\n",
      "       0.0225678 , 0.07158529, 0.10001163, 0.09686916, 0.09354656,\n",
      "       0.100503  , 0.10021716]), 'mean_test_score': array([0.0226119 , 0.0225676 , 0.0225676 , 0.02794148, 0.0734395 ,\n",
      "       0.05430552, 0.03384255, 0.07361983, 0.07137267, 0.0226119 ,\n",
      "       0.0225676 , 0.0225676 , 0.05497642, 0.0734458 , 0.07133684,\n",
      "       0.07143508, 0.07376373, 0.07355289, 0.0226119 , 0.0225676 ,\n",
      "       0.0225676 , 0.05497642, 0.0734458 , 0.07133684, 0.07114707,\n",
      "       0.07373617, 0.07352238]), 'std_test_score': array([5.37471434e-06, 2.84684451e-07, 2.84684451e-07, 7.17987384e-03,\n",
      "       3.59528103e-02, 2.28713059e-02, 1.51474223e-02, 3.60796703e-02,\n",
      "       3.45052317e-02, 5.37471434e-06, 2.84684451e-07, 2.84684451e-07,\n",
      "       2.28860402e-02, 3.59554634e-02, 3.44652061e-02, 3.45412726e-02,\n",
      "       3.61805051e-02, 3.60342381e-02, 5.37471434e-06, 2.84684451e-07,\n",
      "       2.84684451e-07, 2.28860402e-02, 3.59554634e-02, 3.44652061e-02,\n",
      "       3.43515830e-02, 3.61619271e-02, 3.60116004e-02]), 'rank_test_score': array([19, 22, 22, 18,  8, 16, 17,  3, 10, 19, 22, 22, 14,  6, 11,  9,  1,\n",
      "        4, 19, 22, 22, 14,  6, 11, 13,  2,  5])}\n",
      "Pipeline(steps=[('undersampling',\n",
      "                 RandomUnderSampler(random_state=42,\n",
      "                                    sampling_strategy='majority')),\n",
      "                ('preprocessor',\n",
      "                 ColumnTransformer(transformers=[('cat', OneHotEncoder(),\n",
      "                                                  ['sexo', 'tipo_contagio',\n",
      "                                                   'rango_edad',\n",
      "                                                   'asintomatico']),\n",
      "                                                 ('num', StandardScaler(),\n",
      "                                                  ['edad'])])),\n",
      "                ('classifier',\n",
      "                 RandomForestClassifier(max_depth=6, max_leaf_nodes=9,\n",
      "                                        random_state=42))],\n",
      "         verbose=True)\n"
     ]
    }
   ],
   "source": [
    "# Best parameters\n",
    "print(grid.cv_results_)\n",
    "print(grid.best_estimator_)"
   ]
  },
  {
   "cell_type": "code",
   "execution_count": 13,
   "metadata": {},
   "outputs": [
    {
     "name": "stdout",
     "output_type": "stream",
     "text": [
      "[Pipeline] ..... (step 1 of 3) Processing undersampling, total=  53.8s\n",
      "[Pipeline] ...... (step 2 of 3) Processing preprocessor, total=   0.2s\n",
      "[Pipeline] ........ (step 3 of 3) Processing classifier, total=   6.9s\n"
     ]
    }
   ],
   "source": [
    "# Fit the tuned_pipeline on the training data\n",
    "tuned_pipeline = grid.best_estimator_.fit(X_train, y_train)"
   ]
  },
  {
   "cell_type": "code",
   "execution_count": 14,
   "metadata": {},
   "outputs": [],
   "source": [
    "# Predict on the test set\n",
    "y_pred = tuned_pipeline.predict(X_test)\n"
   ]
  },
  {
   "cell_type": "code",
   "execution_count": 15,
   "metadata": {},
   "outputs": [
    {
     "name": "stderr",
     "output_type": "stream",
     "text": [
      "c:\\Python311\\Lib\\site-packages\\sklearn\\metrics\\_classification.py:1469: UndefinedMetricWarning: Precision and F-score are ill-defined and being set to 0.0 in labels with no predicted samples. Use `zero_division` parameter to control this behavior.\n",
      "  _warn_prf(average, modifier, msg_start, len(result))\n",
      "c:\\Python311\\Lib\\site-packages\\sklearn\\metrics\\_classification.py:1469: UndefinedMetricWarning: Precision and F-score are ill-defined and being set to 0.0 in labels with no predicted samples. Use `zero_division` parameter to control this behavior.\n",
      "  _warn_prf(average, modifier, msg_start, len(result))\n"
     ]
    },
    {
     "name": "stdout",
     "output_type": "stream",
     "text": [
      "\n",
      "Classification Report:\n",
      "              precision    recall  f1-score   support\n",
      "\n",
      "   Fallecido       0.02      1.00      0.05     28487\n",
      "       Grave       0.00      0.00      0.00        23\n",
      "        Leve       1.00      0.08      0.15   1241208\n",
      "    Moderado       0.01      0.39      0.01       223\n",
      "\n",
      "    accuracy                           0.10   1269941\n",
      "   macro avg       0.26      0.37      0.05   1269941\n",
      "weighted avg       0.98      0.10      0.15   1269941\n",
      "\n"
     ]
    },
    {
     "name": "stderr",
     "output_type": "stream",
     "text": [
      "c:\\Python311\\Lib\\site-packages\\sklearn\\metrics\\_classification.py:1469: UndefinedMetricWarning: Precision and F-score are ill-defined and being set to 0.0 in labels with no predicted samples. Use `zero_division` parameter to control this behavior.\n",
      "  _warn_prf(average, modifier, msg_start, len(result))\n"
     ]
    }
   ],
   "source": [
    "# Generate classification report\n",
    "report = classification_report(y_test, y_pred)\n",
    "print(\"\\nClassification Report:\")\n",
    "print(report)\n"
   ]
  },
  {
   "cell_type": "code",
   "execution_count": 16,
   "metadata": {},
   "outputs": [
    {
     "data": {
      "text/html": [
       "<div>\n",
       "<style scoped>\n",
       "    .dataframe tbody tr th:only-of-type {\n",
       "        vertical-align: middle;\n",
       "    }\n",
       "\n",
       "    .dataframe tbody tr th {\n",
       "        vertical-align: top;\n",
       "    }\n",
       "\n",
       "    .dataframe thead th {\n",
       "        text-align: right;\n",
       "    }\n",
       "</style>\n",
       "<table border=\"1\" class=\"dataframe\">\n",
       "  <thead>\n",
       "    <tr style=\"text-align: right;\">\n",
       "      <th></th>\n",
       "      <th>features</th>\n",
       "      <th>weights</th>\n",
       "    </tr>\n",
       "  </thead>\n",
       "  <tbody>\n",
       "    <tr>\n",
       "      <th>5</th>\n",
       "      <td>tipo_contagio</td>\n",
       "      <td>0.385312</td>\n",
       "    </tr>\n",
       "    <tr>\n",
       "      <th>7</th>\n",
       "      <td>rango_edad</td>\n",
       "      <td>0.021997</td>\n",
       "    </tr>\n",
       "    <tr>\n",
       "      <th>2</th>\n",
       "      <td>municipio</td>\n",
       "      <td>0.014877</td>\n",
       "    </tr>\n",
       "    <tr>\n",
       "      <th>4</th>\n",
       "      <td>sexo</td>\n",
       "      <td>0.010568</td>\n",
       "    </tr>\n",
       "    <tr>\n",
       "      <th>6</th>\n",
       "      <td>asintomatico</td>\n",
       "      <td>0.010001</td>\n",
       "    </tr>\n",
       "    <tr>\n",
       "      <th>1</th>\n",
       "      <td>departamento</td>\n",
       "      <td>0.002068</td>\n",
       "    </tr>\n",
       "    <tr>\n",
       "      <th>0</th>\n",
       "      <td>id_caso</td>\n",
       "      <td>0.001695</td>\n",
       "    </tr>\n",
       "    <tr>\n",
       "      <th>3</th>\n",
       "      <td>edad</td>\n",
       "      <td>0.000000</td>\n",
       "    </tr>\n",
       "  </tbody>\n",
       "</table>\n",
       "</div>"
      ],
      "text/plain": [
       "        features   weights\n",
       "5  tipo_contagio  0.385312\n",
       "7     rango_edad  0.021997\n",
       "2      municipio  0.014877\n",
       "4           sexo  0.010568\n",
       "6   asintomatico  0.010001\n",
       "1   departamento  0.002068\n",
       "0        id_caso  0.001695\n",
       "3           edad  0.000000"
      ]
     },
     "execution_count": 16,
     "metadata": {},
     "output_type": "execute_result"
    }
   ],
   "source": [
    "features=[]\n",
    "for columns in X.columns:\n",
    "    features.append(columns)\n",
    "    \n",
    "imp_features = tuned_pipeline.named_steps.classifier.feature_importances_\n",
    "\n",
    "df_imp_features = pd.DataFrame({\"features\":features}).join(pd.DataFrame({\"weights\":imp_features}))\n",
    "df_imp_features.sort_values(by=['weights'], ascending=False)"
   ]
  },
  {
   "cell_type": "code",
   "execution_count": 17,
   "metadata": {},
   "outputs": [
    {
     "ename": "NotFittedError",
     "evalue": "This ColumnTransformer instance is not fitted yet. Call 'fit' with appropriate arguments before using this estimator.",
     "output_type": "error",
     "traceback": [
      "\u001b[1;31m---------------------------------------------------------------------------\u001b[0m",
      "\u001b[1;31mNotFittedError\u001b[0m                            Traceback (most recent call last)",
      "Cell \u001b[1;32mIn[17], line 1\u001b[0m\n\u001b[1;32m----> 1\u001b[0m y_proba\u001b[38;5;241m=\u001b[39m \u001b[43mpipeline\u001b[49m\u001b[38;5;241;43m.\u001b[39;49m\u001b[43mpredict_proba\u001b[49m\u001b[43m(\u001b[49m\u001b[43mX_test\u001b[49m\u001b[43m)\u001b[49m\n\u001b[0;32m      2\u001b[0m probabilities \u001b[38;5;241m=\u001b[39m pd\u001b[38;5;241m.\u001b[39mDataFrame(y_proba, index\u001b[38;5;241m=\u001b[39my_test\u001b[38;5;241m.\u001b[39mindex)\n\u001b[0;32m      3\u001b[0m probabilities \u001b[38;5;241m=\u001b[39m probabilities\u001b[38;5;241m.\u001b[39mrename(\n\u001b[0;32m      4\u001b[0m     columns\u001b[38;5;241m=\u001b[39m{\n\u001b[0;32m      5\u001b[0m         \u001b[38;5;241m0\u001b[39m:pipeline\u001b[38;5;241m.\u001b[39mclasses_[\u001b[38;5;241m0\u001b[39m]\n\u001b[0;32m      6\u001b[0m         ,\u001b[38;5;241m1\u001b[39m:pipeline\u001b[38;5;241m.\u001b[39mclasses_[\u001b[38;5;241m1\u001b[39m]\n\u001b[0;32m      7\u001b[0m         ,\u001b[38;5;241m2\u001b[39m:pipeline\u001b[38;5;241m.\u001b[39mclasses_[\u001b[38;5;241m2\u001b[39m]\n\u001b[0;32m      8\u001b[0m         ,\u001b[38;5;241m3\u001b[39m:pipeline\u001b[38;5;241m.\u001b[39mclasses_[\u001b[38;5;241m3\u001b[39m]})\n",
      "File \u001b[1;32mc:\\Python311\\Lib\\site-packages\\imblearn\\pipeline.py:649\u001b[0m, in \u001b[0;36mPipeline.predict_proba\u001b[1;34m(self, X, **params)\u001b[0m\n\u001b[0;32m    647\u001b[0m \u001b[38;5;28;01mif\u001b[39;00m \u001b[38;5;129;01mnot\u001b[39;00m _routing_enabled():\n\u001b[0;32m    648\u001b[0m     \u001b[38;5;28;01mfor\u001b[39;00m _, name, transform \u001b[38;5;129;01min\u001b[39;00m \u001b[38;5;28mself\u001b[39m\u001b[38;5;241m.\u001b[39m_iter(with_final\u001b[38;5;241m=\u001b[39m\u001b[38;5;28;01mFalse\u001b[39;00m):\n\u001b[1;32m--> 649\u001b[0m         Xt \u001b[38;5;241m=\u001b[39m \u001b[43mtransform\u001b[49m\u001b[38;5;241;43m.\u001b[39;49m\u001b[43mtransform\u001b[49m\u001b[43m(\u001b[49m\u001b[43mXt\u001b[49m\u001b[43m)\u001b[49m\n\u001b[0;32m    650\u001b[0m     \u001b[38;5;28;01mreturn\u001b[39;00m \u001b[38;5;28mself\u001b[39m\u001b[38;5;241m.\u001b[39msteps[\u001b[38;5;241m-\u001b[39m\u001b[38;5;241m1\u001b[39m][\u001b[38;5;241m1\u001b[39m]\u001b[38;5;241m.\u001b[39mpredict_proba(Xt, \u001b[38;5;241m*\u001b[39m\u001b[38;5;241m*\u001b[39mparams)\n\u001b[0;32m    652\u001b[0m \u001b[38;5;66;03m# metadata routing enabled\u001b[39;00m\n",
      "File \u001b[1;32mc:\\Python311\\Lib\\site-packages\\sklearn\\utils\\_set_output.py:157\u001b[0m, in \u001b[0;36m_wrap_method_output.<locals>.wrapped\u001b[1;34m(self, X, *args, **kwargs)\u001b[0m\n\u001b[0;32m    155\u001b[0m \u001b[38;5;129m@wraps\u001b[39m(f)\n\u001b[0;32m    156\u001b[0m \u001b[38;5;28;01mdef\u001b[39;00m \u001b[38;5;21mwrapped\u001b[39m(\u001b[38;5;28mself\u001b[39m, X, \u001b[38;5;241m*\u001b[39margs, \u001b[38;5;241m*\u001b[39m\u001b[38;5;241m*\u001b[39mkwargs):\n\u001b[1;32m--> 157\u001b[0m     data_to_wrap \u001b[38;5;241m=\u001b[39m \u001b[43mf\u001b[49m\u001b[43m(\u001b[49m\u001b[38;5;28;43mself\u001b[39;49m\u001b[43m,\u001b[49m\u001b[43m \u001b[49m\u001b[43mX\u001b[49m\u001b[43m,\u001b[49m\u001b[43m \u001b[49m\u001b[38;5;241;43m*\u001b[39;49m\u001b[43margs\u001b[49m\u001b[43m,\u001b[49m\u001b[43m \u001b[49m\u001b[38;5;241;43m*\u001b[39;49m\u001b[38;5;241;43m*\u001b[39;49m\u001b[43mkwargs\u001b[49m\u001b[43m)\u001b[49m\n\u001b[0;32m    158\u001b[0m     \u001b[38;5;28;01mif\u001b[39;00m \u001b[38;5;28misinstance\u001b[39m(data_to_wrap, \u001b[38;5;28mtuple\u001b[39m):\n\u001b[0;32m    159\u001b[0m         \u001b[38;5;66;03m# only wrap the first output for cross decomposition\u001b[39;00m\n\u001b[0;32m    160\u001b[0m         return_tuple \u001b[38;5;241m=\u001b[39m (\n\u001b[0;32m    161\u001b[0m             _wrap_data_with_container(method, data_to_wrap[\u001b[38;5;241m0\u001b[39m], X, \u001b[38;5;28mself\u001b[39m),\n\u001b[0;32m    162\u001b[0m             \u001b[38;5;241m*\u001b[39mdata_to_wrap[\u001b[38;5;241m1\u001b[39m:],\n\u001b[0;32m    163\u001b[0m         )\n",
      "File \u001b[1;32mc:\\Python311\\Lib\\site-packages\\sklearn\\compose\\_column_transformer.py:797\u001b[0m, in \u001b[0;36mColumnTransformer.transform\u001b[1;34m(self, X)\u001b[0m\n\u001b[0;32m    780\u001b[0m \u001b[38;5;28;01mdef\u001b[39;00m \u001b[38;5;21mtransform\u001b[39m(\u001b[38;5;28mself\u001b[39m, X):\n\u001b[0;32m    781\u001b[0m \u001b[38;5;250m    \u001b[39m\u001b[38;5;124;03m\"\"\"Transform X separately by each transformer, concatenate results.\u001b[39;00m\n\u001b[0;32m    782\u001b[0m \n\u001b[0;32m    783\u001b[0m \u001b[38;5;124;03m    Parameters\u001b[39;00m\n\u001b[1;32m   (...)\u001b[0m\n\u001b[0;32m    795\u001b[0m \u001b[38;5;124;03m        sparse matrices.\u001b[39;00m\n\u001b[0;32m    796\u001b[0m \u001b[38;5;124;03m    \"\"\"\u001b[39;00m\n\u001b[1;32m--> 797\u001b[0m     \u001b[43mcheck_is_fitted\u001b[49m\u001b[43m(\u001b[49m\u001b[38;5;28;43mself\u001b[39;49m\u001b[43m)\u001b[49m\n\u001b[0;32m    798\u001b[0m     X \u001b[38;5;241m=\u001b[39m _check_X(X)\n\u001b[0;32m    800\u001b[0m     fit_dataframe_and_transform_dataframe \u001b[38;5;241m=\u001b[39m \u001b[38;5;28mhasattr\u001b[39m(\n\u001b[0;32m    801\u001b[0m         \u001b[38;5;28mself\u001b[39m, \u001b[38;5;124m\"\u001b[39m\u001b[38;5;124mfeature_names_in_\u001b[39m\u001b[38;5;124m\"\u001b[39m\n\u001b[0;32m    802\u001b[0m     ) \u001b[38;5;129;01mand\u001b[39;00m \u001b[38;5;28mhasattr\u001b[39m(X, \u001b[38;5;124m\"\u001b[39m\u001b[38;5;124mcolumns\u001b[39m\u001b[38;5;124m\"\u001b[39m)\n",
      "File \u001b[1;32mc:\\Python311\\Lib\\site-packages\\sklearn\\utils\\validation.py:1461\u001b[0m, in \u001b[0;36mcheck_is_fitted\u001b[1;34m(estimator, attributes, msg, all_or_any)\u001b[0m\n\u001b[0;32m   1458\u001b[0m     \u001b[38;5;28;01mraise\u001b[39;00m \u001b[38;5;167;01mTypeError\u001b[39;00m(\u001b[38;5;124m\"\u001b[39m\u001b[38;5;132;01m%s\u001b[39;00m\u001b[38;5;124m is not an estimator instance.\u001b[39m\u001b[38;5;124m\"\u001b[39m \u001b[38;5;241m%\u001b[39m (estimator))\n\u001b[0;32m   1460\u001b[0m \u001b[38;5;28;01mif\u001b[39;00m \u001b[38;5;129;01mnot\u001b[39;00m _is_fitted(estimator, attributes, all_or_any):\n\u001b[1;32m-> 1461\u001b[0m     \u001b[38;5;28;01mraise\u001b[39;00m NotFittedError(msg \u001b[38;5;241m%\u001b[39m {\u001b[38;5;124m\"\u001b[39m\u001b[38;5;124mname\u001b[39m\u001b[38;5;124m\"\u001b[39m: \u001b[38;5;28mtype\u001b[39m(estimator)\u001b[38;5;241m.\u001b[39m\u001b[38;5;18m__name__\u001b[39m})\n",
      "\u001b[1;31mNotFittedError\u001b[0m: This ColumnTransformer instance is not fitted yet. Call 'fit' with appropriate arguments before using this estimator."
     ]
    }
   ],
   "source": [
    "y_proba= pipeline.predict_proba(X_test)\n",
    "probabilities = pd.DataFrame(y_proba, index=y_test.index)\n",
    "probabilities = probabilities.rename(\n",
    "    columns={\n",
    "        0:pipeline.classes_[0]\n",
    "        ,1:pipeline.classes_[1]\n",
    "        ,2:pipeline.classes_[2]\n",
    "        ,3:pipeline.classes_[3]})\n",
    "xd= pd.concat([X_test,y_test,pd.Series(y_pred, index=y_test.index),probabilities],axis=1)\n",
    "xd = xd.rename(columns={\"estado\":\"y_test\",0:\"y_pred2\"})"
   ]
  },
  {
   "cell_type": "code",
   "execution_count": null,
   "metadata": {},
   "outputs": [],
   "source": [
    "#xd.to_csv(\"testing.csv\")"
   ]
  }
 ],
 "metadata": {
  "kernelspec": {
   "display_name": "Python 3",
   "language": "python",
   "name": "python3"
  },
  "language_info": {
   "codemirror_mode": {
    "name": "ipython",
    "version": 3
   },
   "file_extension": ".py",
   "mimetype": "text/x-python",
   "name": "python",
   "nbconvert_exporter": "python",
   "pygments_lexer": "ipython3",
   "version": "3.11.4"
  }
 },
 "nbformat": 4,
 "nbformat_minor": 2
}
