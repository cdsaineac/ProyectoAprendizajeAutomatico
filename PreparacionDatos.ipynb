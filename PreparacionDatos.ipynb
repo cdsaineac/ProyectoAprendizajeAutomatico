{
 "cells": [
  {
   "cell_type": "code",
   "execution_count": 21,
   "metadata": {},
   "outputs": [],
   "source": [
    "#Importar librerias\n",
    "import pandas as pd"
   ]
  },
  {
   "cell_type": "code",
   "execution_count": 22,
   "metadata": {},
   "outputs": [
    {
     "name": "stderr",
     "output_type": "stream",
     "text": [
      "C:\\Users\\crist\\AppData\\Local\\Temp\\ipykernel_3848\\226723303.py:2: DtypeWarning: Columns (14) have mixed types. Specify dtype option on import or set low_memory=False.\n",
      "  data = pd.read_csv(\"casos_covid19_colombia.csv\")[[\n"
     ]
    },
    {
     "data": {
      "text/plain": [
       "(6390971, 9)"
      ]
     },
     "execution_count": 22,
     "metadata": {},
     "output_type": "execute_result"
    }
   ],
   "source": [
    "# Leer dataset original\n",
    "data = pd.read_csv(\"casos_covid19_colombia.csv\")[[\n",
    "    \"ID de caso\",\n",
    "    \"Nombre departamento\",\n",
    "    \"Nombre municipio\",\n",
    "    \"Edad\",\n",
    "    \"Unidad de medida de edad\",\n",
    "    \"Sexo\",\n",
    "    \"Tipo de contagio\",\n",
    "    \"Estado\",\n",
    "    \"Fecha de inicio de síntomas\"]]\n",
    "\n",
    "data.shape"
   ]
  },
  {
   "cell_type": "markdown",
   "metadata": {},
   "source": [
    "# Preparación de los datos"
   ]
  },
  {
   "cell_type": "code",
   "execution_count": 23,
   "metadata": {},
   "outputs": [
    {
     "data": {
      "text/plain": [
       "(6390971, 9)"
      ]
     },
     "execution_count": 23,
     "metadata": {},
     "output_type": "execute_result"
    }
   ],
   "source": [
    "# Selección de datos relevantes\n",
    "clean_data = data[[\n",
    "    \"ID de caso\",\n",
    "    \"Nombre departamento\",\n",
    "    \"Nombre municipio\",\n",
    "    \"Edad\",\n",
    "    \"Unidad de medida de edad\",\n",
    "    \"Sexo\",\n",
    "    \"Tipo de contagio\",\n",
    "    \"Estado\",\n",
    "    \"Fecha de inicio de síntomas\"]]\n",
    "\n",
    "clean_data.shape"
   ]
  },
  {
   "cell_type": "code",
   "execution_count": 24,
   "metadata": {},
   "outputs": [
    {
     "data": {
      "text/plain": [
       "(6349701, 9)"
      ]
     },
     "execution_count": 24,
     "metadata": {},
     "output_type": "execute_result"
    }
   ],
   "source": [
    "# Limpieza de datos\n",
    "# Estandarizar nombres de departamentos, municipios, valores categoricos de Sexo y valores de la columna Estado. \n",
    "clean_data.loc[:,\"Nombre departamento\"] = clean_data[\"Nombre departamento\"].str.upper()\n",
    "clean_data.loc[:,\"Nombre municipio\"] = clean_data[\"Nombre municipio\"].str.upper()\n",
    "clean_data.loc[:,\"Sexo\"] = clean_data[\"Sexo\"].str.upper()\n",
    "clean_data.loc[(clean_data[\"Estado\"] == \"leve\") | (clean_data[\"Estado\"] == \"LEVE\"),\"Estado\"] = \"Leve\"\n",
    "\n",
    "# Remover valores N/A de la columna estado\n",
    "clean_data = clean_data[~clean_data[\"Estado\"].isna()]\n",
    "clean_data.shape\n",
    "\n",
    "# Remover valores invalidos de Unidad de medida de edad\n",
    "clean_data = clean_data[clean_data[\"Unidad de medida de edad\"]<=3]\n",
    "clean_data.shape"
   ]
  },
  {
   "cell_type": "code",
   "execution_count": 25,
   "metadata": {},
   "outputs": [
    {
     "name": "stderr",
     "output_type": "stream",
     "text": [
      "C:\\Users\\crist\\AppData\\Local\\Temp\\ipykernel_3848\\1790464415.py:8: FutureWarning: Setting an item of incompatible dtype is deprecated and will raise in a future error of pandas. Value '[0.5        0.25       0.5        ... 0.91666667 0.5        0.16666667]' has dtype incompatible with int64, please explicitly cast to a compatible dtype first.\n",
      "  clean_data.loc[clean_data[\"Unidad de medida de edad\"] == 2,\"Edad\"] = clean_data[\"Edad\"]/12.0\n",
      "C:\\Users\\crist\\AppData\\Local\\Temp\\ipykernel_3848\\1790464415.py:12: FutureWarning: Setting an item of incompatible dtype is deprecated and will raise in a future error of pandas. Value '0 a 4 años' has dtype incompatible with float64, please explicitly cast to a compatible dtype first.\n",
      "  clean_data.loc[clean_data[\"Edad\"] < 5,\"rango_edad\"] = \"0 a 4 años\"\n"
     ]
    }
   ],
   "source": [
    "# Construcción de nuevos datos\n",
    "# Categorización asintomaticos\n",
    "clean_data.loc[~clean_data[\"Fecha de inicio de síntomas\"].isna(),\"Fecha de inicio de síntomas\"] = 'No'\n",
    "clean_data.loc[clean_data[\"Fecha de inicio de síntomas\"].isna(),\"Fecha de inicio de síntomas\"] = 'Si'\n",
    "#clean_data[\"Fecha de inicio de síntomas\"].value_counts()\n",
    "\n",
    "# Modificación de edad basado en la unidad de medida de edad\n",
    "clean_data.loc[clean_data[\"Unidad de medida de edad\"] == 2,\"Edad\"] = clean_data[\"Edad\"]/12.0\n",
    "clean_data.loc[clean_data[\"Unidad de medida de edad\"] == 3,\"Edad\"] = clean_data[\"Edad\"]/365.0\n",
    "\n",
    "# Creación de rango de edad\n",
    "clean_data.loc[clean_data[\"Edad\"] < 5,\"rango_edad\"] = \"0 a 4 años\"\n",
    "clean_data.loc[(clean_data[\"Edad\"] >= 5) & (clean_data[\"Edad\"] < 12),\"rango_edad\"] = \"5 a 11 años\"\n",
    "clean_data.loc[(clean_data[\"Edad\"] >= 12) & (clean_data[\"Edad\"] < 26),\"rango_edad\"] = \"12 a 25 años\"\n",
    "clean_data.loc[(clean_data[\"Edad\"] >= 26) & (clean_data[\"Edad\"] < 41),\"rango_edad\"] = \"26 a 40 años\"\n",
    "clean_data.loc[(clean_data[\"Edad\"] >= 41) & (clean_data[\"Edad\"] < 64),\"rango_edad\"] = \"41 a 64 años\"\n",
    "clean_data.loc[clean_data[\"Edad\"] >= 64,\"rango_edad\"] = \"65 años y más\""
   ]
  },
  {
   "cell_type": "code",
   "execution_count": 26,
   "metadata": {},
   "outputs": [],
   "source": [
    "# Integracion de los datos\n",
    "departamentos = pd.read_csv('departamentos.csv')\n",
    "municipios = pd.read_csv('municipios.csv')\n",
    "\n",
    "#clean_data.merge(municipios, left_on='Nombre municipio', right_on='Homologo')\n",
    "clean_data = clean_data.merge(departamentos[['Nombre','Población DANE','Categoría','Homologo']], left_on='Nombre departamento', right_on='Homologo')"
   ]
  },
  {
   "cell_type": "code",
   "execution_count": 27,
   "metadata": {},
   "outputs": [],
   "source": [
    "# Formato de datos \n",
    "# Remover columnas innecesarias\n",
    "clean_data = clean_data.drop(columns=[\"Unidad de medida de edad\",\"Nombre departamento\",\"Homologo\"])\n",
    "# Renombrar columnas a formato camel_case\n",
    "clean_data = clean_data.rename(columns={\n",
    "    \"ID de caso\": \"id_caso\",\n",
    "    \"Nombre\": \"departamento\",\n",
    "    \"Nombre municipio\": \"municipio\",\n",
    "    \"Edad\": \"edad\",\n",
    "    \"Sexo\": \"sexo\",\n",
    "    \"Tipo de contagio\": \"tipo_contagio\",\n",
    "    \"Estado\": \"estado\",\n",
    "    \"Fecha de inicio de síntomas\":\"asintomatico\",\n",
    "    \"Población DANE\":\"poblacion_departamento\",\n",
    "    \"Categoría\":\"categoria_departamento\"\n",
    "    })\n",
    "\n",
    "# Formatear categoria de departamento como String\n",
    "clean_data['categoria_departamento'] = clean_data['categoria_departamento'].astype(str)\n"
   ]
  },
  {
   "cell_type": "code",
   "execution_count": 31,
   "metadata": {},
   "outputs": [],
   "source": [
    "clean_data = clean_data[['id_caso','departamento','municipio','poblacion_departamento','categoria_departamento','edad','sexo','tipo_contagio','asintomatico','rango_edad','estado']]"
   ]
  },
  {
   "cell_type": "code",
   "execution_count": 33,
   "metadata": {},
   "outputs": [],
   "source": [
    "# Exportar datos\n",
    "clean_data.to_csv(\"covid19_clean_data.csv\")"
   ]
  }
 ],
 "metadata": {
  "kernelspec": {
   "display_name": "Python 3",
   "language": "python",
   "name": "python3"
  },
  "language_info": {
   "codemirror_mode": {
    "name": "ipython",
    "version": 3
   },
   "file_extension": ".py",
   "mimetype": "text/x-python",
   "name": "python",
   "nbconvert_exporter": "python",
   "pygments_lexer": "ipython3",
   "version": "3.11.4"
  }
 },
 "nbformat": 4,
 "nbformat_minor": 2
}
