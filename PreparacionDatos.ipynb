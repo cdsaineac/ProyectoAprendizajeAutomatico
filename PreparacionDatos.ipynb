{
 "cells": [
  {
   "cell_type": "code",
   "execution_count": 1,
   "metadata": {},
   "outputs": [],
   "source": [
    "#Importar librerias\n",
    "import pandas as pd"
   ]
  },
  {
   "cell_type": "code",
   "execution_count": 2,
   "metadata": {},
   "outputs": [
    {
     "name": "stderr",
     "output_type": "stream",
     "text": [
      "C:\\Users\\crist\\AppData\\Local\\Temp\\ipykernel_3448\\4159600309.py:2: DtypeWarning: Columns (14) have mixed types. Specify dtype option on import or set low_memory=False.\n",
      "  data = pd.read_csv(\"casos_covid19_colombia.csv\")\n"
     ]
    }
   ],
   "source": [
    "# Leer dataset original\n",
    "data = pd.read_csv(\"casos_covid19_colombia.csv\")"
   ]
  },
  {
   "cell_type": "code",
   "execution_count": 3,
   "metadata": {},
   "outputs": [
    {
     "data": {
      "text/plain": [
       "(6390971, 23)"
      ]
     },
     "execution_count": 3,
     "metadata": {},
     "output_type": "execute_result"
    }
   ],
   "source": [
    "data.shape"
   ]
  },
  {
   "cell_type": "markdown",
   "metadata": {},
   "source": [
    "# Preparación de los datos"
   ]
  },
  {
   "cell_type": "code",
   "execution_count": 4,
   "metadata": {},
   "outputs": [
    {
     "data": {
      "text/plain": [
       "(6390971, 9)"
      ]
     },
     "execution_count": 4,
     "metadata": {},
     "output_type": "execute_result"
    }
   ],
   "source": [
    "# Selección de datos relevantes\n",
    "clean_data = data[[\n",
    "    \"ID de caso\",\n",
    "    \"Nombre departamento\",\n",
    "    \"Nombre municipio\",\n",
    "    \"Edad\",\n",
    "    \"Unidad de medida de edad\",\n",
    "    \"Sexo\",\n",
    "    \"Tipo de contagio\",\n",
    "    \"Estado\",\n",
    "    \"Fecha de inicio de síntomas\"]]\n",
    "\n",
    "clean_data.shape"
   ]
  },
  {
   "cell_type": "code",
   "execution_count": 5,
   "metadata": {},
   "outputs": [
    {
     "data": {
      "text/plain": [
       "(6349701, 9)"
      ]
     },
     "execution_count": 5,
     "metadata": {},
     "output_type": "execute_result"
    }
   ],
   "source": [
    "# Limpieza de datos\n",
    "# Estandarizar nombres de departamentos, municipios, valores categoricos de Sexo y valores de la columna Estado. \n",
    "clean_data.loc[:,\"Nombre departamento\"] = clean_data[\"Nombre departamento\"].str.upper()\n",
    "clean_data.loc[:,\"Nombre municipio\"] = clean_data[\"Nombre municipio\"].str.upper()\n",
    "clean_data.loc[:,\"Sexo\"] = clean_data[\"Sexo\"].str.upper()\n",
    "clean_data.loc[(clean_data[\"Estado\"] == \"leve\") | (clean_data[\"Estado\"] == \"LEVE\"),\"Estado\"] = \"Leve\"\n",
    "\n",
    "# Remover valores N/A de la columna estado\n",
    "clean_data = clean_data[~clean_data[\"Estado\"].isna()]\n",
    "clean_data.shape\n",
    "\n",
    "# Remover valores invalidos de Unidad de medida de edad\n",
    "clean_data = clean_data[clean_data[\"Unidad de medida de edad\"]<=3]\n",
    "clean_data.shape"
   ]
  },
  {
   "cell_type": "code",
   "execution_count": 6,
   "metadata": {},
   "outputs": [
    {
     "name": "stderr",
     "output_type": "stream",
     "text": [
      "C:\\Users\\crist\\AppData\\Local\\Temp\\ipykernel_3448\\2389459221.py:8: FutureWarning: Setting an item of incompatible dtype is deprecated and will raise in a future error of pandas. Value '[0.5        0.25       0.5        ... 0.91666667 0.5        0.16666667]' has dtype incompatible with int64, please explicitly cast to a compatible dtype first.\n",
      "  clean_data.loc[clean_data[\"Unidad de medida de edad\"] == 2,\"Edad\"] = clean_data[\"Edad\"]/12.0\n",
      "C:\\Users\\crist\\AppData\\Local\\Temp\\ipykernel_3448\\2389459221.py:12: FutureWarning: Setting an item of incompatible dtype is deprecated and will raise in a future error of pandas. Value '0 a 4 años' has dtype incompatible with float64, please explicitly cast to a compatible dtype first.\n",
      "  clean_data.loc[clean_data[\"Edad\"] < 5,\"rango_edad\"] = \"0 a 4 años\"\n"
     ]
    }
   ],
   "source": [
    "# Construcción de nuevos datos\n",
    "# Categorización asintomaticos\n",
    "clean_data.loc[~clean_data[\"Fecha de inicio de síntomas\"].isna(),\"Fecha de inicio de síntomas\"] = 0\n",
    "clean_data.loc[clean_data[\"Fecha de inicio de síntomas\"].isna(),\"Fecha de inicio de síntomas\"] = 1\n",
    "#clean_data[\"Fecha de inicio de síntomas\"].value_counts()\n",
    "\n",
    "# Modificación de edad basado en la unidad de medida de edad\n",
    "clean_data.loc[clean_data[\"Unidad de medida de edad\"] == 2,\"Edad\"] = clean_data[\"Edad\"]/12.0\n",
    "clean_data.loc[clean_data[\"Unidad de medida de edad\"] == 3,\"Edad\"] = clean_data[\"Edad\"]/365.0\n",
    "\n",
    "# Creación de rango de edad\n",
    "clean_data.loc[clean_data[\"Edad\"] < 5,\"rango_edad\"] = \"0 a 4 años\"\n",
    "clean_data.loc[(clean_data[\"Edad\"] >= 5) & (clean_data[\"Edad\"] < 12),\"rango_edad\"] = \"5 a 11 años\"\n",
    "clean_data.loc[(clean_data[\"Edad\"] >= 12) & (clean_data[\"Edad\"] < 26),\"rango_edad\"] = \"12 a 25 años\"\n",
    "clean_data.loc[(clean_data[\"Edad\"] >= 26) & (clean_data[\"Edad\"] < 41),\"rango_edad\"] = \"26 a 40 años\"\n",
    "clean_data.loc[(clean_data[\"Edad\"] >= 41) & (clean_data[\"Edad\"] < 64),\"rango_edad\"] = \"41 a 64 años\"\n",
    "clean_data.loc[clean_data[\"Edad\"] >= 64,\"rango_edad\"] = \"65 años y más\""
   ]
  },
  {
   "cell_type": "code",
   "execution_count": 7,
   "metadata": {},
   "outputs": [],
   "source": [
    "# Formato de datos \n",
    "# Remover columa de unidad de medida \n",
    "clean_data = clean_data.drop(columns=[\"Unidad de medida de edad\"])\n",
    "# Renombrar columnas a formato camel_case\n",
    "clean_data = clean_data.rename(columns={\n",
    "    \"ID de caso\": \"id_caso\",\n",
    "    \"Nombre departamento\": \"departamento\",\n",
    "    \"Nombre municipio\": \"municipio\",\n",
    "    \"Edad\": \"edad\",\n",
    "    \"Sexo\": \"sexo\",\n",
    "    \"Tipo de contagio\": \"tipo_contagio\",\n",
    "    \"Estado\": \"estado\",\n",
    "    \"Fecha de inicio de síntomas\":\"asintomatico\"\n",
    "    })"
   ]
  },
  {
   "cell_type": "code",
   "execution_count": 8,
   "metadata": {},
   "outputs": [
    {
     "data": {
      "text/html": [
       "<div>\n",
       "<style scoped>\n",
       "    .dataframe tbody tr th:only-of-type {\n",
       "        vertical-align: middle;\n",
       "    }\n",
       "\n",
       "    .dataframe tbody tr th {\n",
       "        vertical-align: top;\n",
       "    }\n",
       "\n",
       "    .dataframe thead th {\n",
       "        text-align: right;\n",
       "    }\n",
       "</style>\n",
       "<table border=\"1\" class=\"dataframe\">\n",
       "  <thead>\n",
       "    <tr style=\"text-align: right;\">\n",
       "      <th></th>\n",
       "      <th>id_caso</th>\n",
       "      <th>departamento</th>\n",
       "      <th>municipio</th>\n",
       "      <th>edad</th>\n",
       "      <th>sexo</th>\n",
       "      <th>tipo_contagio</th>\n",
       "      <th>estado</th>\n",
       "      <th>asintomatico</th>\n",
       "      <th>rango_edad</th>\n",
       "    </tr>\n",
       "  </thead>\n",
       "  <tbody>\n",
       "    <tr>\n",
       "      <th>0</th>\n",
       "      <td>1556979</td>\n",
       "      <td>VALLE</td>\n",
       "      <td>CALI</td>\n",
       "      <td>67.0</td>\n",
       "      <td>F</td>\n",
       "      <td>Comunitaria</td>\n",
       "      <td>Leve</td>\n",
       "      <td>0</td>\n",
       "      <td>65 años y más</td>\n",
       "    </tr>\n",
       "    <tr>\n",
       "      <th>1</th>\n",
       "      <td>1556980</td>\n",
       "      <td>VALLE</td>\n",
       "      <td>CALI</td>\n",
       "      <td>66.0</td>\n",
       "      <td>F</td>\n",
       "      <td>Comunitaria</td>\n",
       "      <td>Leve</td>\n",
       "      <td>0</td>\n",
       "      <td>65 años y más</td>\n",
       "    </tr>\n",
       "    <tr>\n",
       "      <th>2</th>\n",
       "      <td>1556981</td>\n",
       "      <td>VALLE</td>\n",
       "      <td>CALI</td>\n",
       "      <td>68.0</td>\n",
       "      <td>F</td>\n",
       "      <td>Comunitaria</td>\n",
       "      <td>Leve</td>\n",
       "      <td>0</td>\n",
       "      <td>65 años y más</td>\n",
       "    </tr>\n",
       "    <tr>\n",
       "      <th>3</th>\n",
       "      <td>1556982</td>\n",
       "      <td>VALLE</td>\n",
       "      <td>CALI</td>\n",
       "      <td>74.0</td>\n",
       "      <td>F</td>\n",
       "      <td>Comunitaria</td>\n",
       "      <td>Fallecido</td>\n",
       "      <td>0</td>\n",
       "      <td>65 años y más</td>\n",
       "    </tr>\n",
       "    <tr>\n",
       "      <th>4</th>\n",
       "      <td>1556983</td>\n",
       "      <td>VALLE</td>\n",
       "      <td>CALI</td>\n",
       "      <td>65.0</td>\n",
       "      <td>F</td>\n",
       "      <td>Comunitaria</td>\n",
       "      <td>Leve</td>\n",
       "      <td>0</td>\n",
       "      <td>65 años y más</td>\n",
       "    </tr>\n",
       "    <tr>\n",
       "      <th>...</th>\n",
       "      <td>...</td>\n",
       "      <td>...</td>\n",
       "      <td>...</td>\n",
       "      <td>...</td>\n",
       "      <td>...</td>\n",
       "      <td>...</td>\n",
       "      <td>...</td>\n",
       "      <td>...</td>\n",
       "      <td>...</td>\n",
       "    </tr>\n",
       "    <tr>\n",
       "      <th>6390966</th>\n",
       "      <td>4990088</td>\n",
       "      <td>VALLE</td>\n",
       "      <td>PALMIRA</td>\n",
       "      <td>37.0</td>\n",
       "      <td>M</td>\n",
       "      <td>Relacionado</td>\n",
       "      <td>Leve</td>\n",
       "      <td>0</td>\n",
       "      <td>26 a 40 años</td>\n",
       "    </tr>\n",
       "    <tr>\n",
       "      <th>6390967</th>\n",
       "      <td>4990091</td>\n",
       "      <td>VALLE</td>\n",
       "      <td>PALMIRA</td>\n",
       "      <td>36.0</td>\n",
       "      <td>M</td>\n",
       "      <td>Comunitaria</td>\n",
       "      <td>Leve</td>\n",
       "      <td>0</td>\n",
       "      <td>26 a 40 años</td>\n",
       "    </tr>\n",
       "    <tr>\n",
       "      <th>6390968</th>\n",
       "      <td>4990092</td>\n",
       "      <td>VALLE</td>\n",
       "      <td>JAMUNDI</td>\n",
       "      <td>39.0</td>\n",
       "      <td>F</td>\n",
       "      <td>Comunitaria</td>\n",
       "      <td>Leve</td>\n",
       "      <td>0</td>\n",
       "      <td>26 a 40 años</td>\n",
       "    </tr>\n",
       "    <tr>\n",
       "      <th>6390969</th>\n",
       "      <td>4990095</td>\n",
       "      <td>VALLE</td>\n",
       "      <td>JAMUNDI</td>\n",
       "      <td>43.0</td>\n",
       "      <td>F</td>\n",
       "      <td>Relacionado</td>\n",
       "      <td>Leve</td>\n",
       "      <td>0</td>\n",
       "      <td>41 a 64 años</td>\n",
       "    </tr>\n",
       "    <tr>\n",
       "      <th>6390970</th>\n",
       "      <td>4990096</td>\n",
       "      <td>VALLE</td>\n",
       "      <td>JAMUNDI</td>\n",
       "      <td>16.0</td>\n",
       "      <td>M</td>\n",
       "      <td>Relacionado</td>\n",
       "      <td>Leve</td>\n",
       "      <td>0</td>\n",
       "      <td>12 a 25 años</td>\n",
       "    </tr>\n",
       "  </tbody>\n",
       "</table>\n",
       "<p>6349701 rows × 9 columns</p>\n",
       "</div>"
      ],
      "text/plain": [
       "         id_caso departamento municipio  edad sexo tipo_contagio     estado  \\\n",
       "0        1556979        VALLE      CALI  67.0    F   Comunitaria       Leve   \n",
       "1        1556980        VALLE      CALI  66.0    F   Comunitaria       Leve   \n",
       "2        1556981        VALLE      CALI  68.0    F   Comunitaria       Leve   \n",
       "3        1556982        VALLE      CALI  74.0    F   Comunitaria  Fallecido   \n",
       "4        1556983        VALLE      CALI  65.0    F   Comunitaria       Leve   \n",
       "...          ...          ...       ...   ...  ...           ...        ...   \n",
       "6390966  4990088        VALLE   PALMIRA  37.0    M   Relacionado       Leve   \n",
       "6390967  4990091        VALLE   PALMIRA  36.0    M   Comunitaria       Leve   \n",
       "6390968  4990092        VALLE   JAMUNDI  39.0    F   Comunitaria       Leve   \n",
       "6390969  4990095        VALLE   JAMUNDI  43.0    F   Relacionado       Leve   \n",
       "6390970  4990096        VALLE   JAMUNDI  16.0    M   Relacionado       Leve   \n",
       "\n",
       "        asintomatico     rango_edad  \n",
       "0                  0  65 años y más  \n",
       "1                  0  65 años y más  \n",
       "2                  0  65 años y más  \n",
       "3                  0  65 años y más  \n",
       "4                  0  65 años y más  \n",
       "...              ...            ...  \n",
       "6390966            0   26 a 40 años  \n",
       "6390967            0   26 a 40 años  \n",
       "6390968            0   26 a 40 años  \n",
       "6390969            0   41 a 64 años  \n",
       "6390970            0   12 a 25 años  \n",
       "\n",
       "[6349701 rows x 9 columns]"
      ]
     },
     "execution_count": 8,
     "metadata": {},
     "output_type": "execute_result"
    }
   ],
   "source": [
    "clean_data"
   ]
  },
  {
   "cell_type": "code",
   "execution_count": 9,
   "metadata": {},
   "outputs": [],
   "source": [
    "# Exportar datos\n",
    "clean_data.to_csv(\"covid19_clean_data.csv\")"
   ]
  }
 ],
 "metadata": {
  "kernelspec": {
   "display_name": "Python 3",
   "language": "python",
   "name": "python3"
  },
  "language_info": {
   "codemirror_mode": {
    "name": "ipython",
    "version": 3
   },
   "file_extension": ".py",
   "mimetype": "text/x-python",
   "name": "python",
   "nbconvert_exporter": "python",
   "pygments_lexer": "ipython3",
   "version": "3.11.4"
  }
 },
 "nbformat": 4,
 "nbformat_minor": 2
}
