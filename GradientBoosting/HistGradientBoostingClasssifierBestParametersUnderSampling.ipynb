{
 "cells": [
  {
   "cell_type": "code",
   "execution_count": 1,
   "metadata": {},
   "outputs": [],
   "source": [
    "import pandas as pd\n",
    "import joblib\n",
    "from sklearn.metrics import classification_report\n",
    "from sklearn.model_selection import train_test_split"
   ]
  },
  {
   "cell_type": "code",
   "execution_count": 2,
   "metadata": {},
   "outputs": [],
   "source": [
    "grid = joblib.load('GradientBoosting_GridSearch_RandomUnderSampling.joblib')"
   ]
  },
  {
   "cell_type": "code",
   "execution_count": 3,
   "metadata": {},
   "outputs": [
    {
     "name": "stderr",
     "output_type": "stream",
     "text": [
      "C:\\Users\\crist\\AppData\\Local\\Temp\\ipykernel_12568\\3897947433.py:2: DtypeWarning: Columns (5) have mixed types. Specify dtype option on import or set low_memory=False.\n",
      "  covid_data = pd.read_csv(\"../covid19_clean_data.csv\", index_col=0)\n"
     ]
    },
    {
     "data": {
      "text/plain": [
       "(6349701, 11)"
      ]
     },
     "execution_count": 3,
     "metadata": {},
     "output_type": "execute_result"
    }
   ],
   "source": [
    "# Cargar datos preprocesados\n",
    "covid_data = pd.read_csv(\"../covid19_clean_data.csv\", index_col=0)\n",
    "covid_data.shape"
   ]
  },
  {
   "cell_type": "code",
   "execution_count": 4,
   "metadata": {},
   "outputs": [],
   "source": [
    "# Separar las caracteristicas de las clases \n",
    "X = covid_data.drop(\"estado\", axis=1)\n",
    "y = covid_data[\"estado\"]"
   ]
  },
  {
   "cell_type": "code",
   "execution_count": 5,
   "metadata": {},
   "outputs": [],
   "source": [
    "# Forzar formateo de categoria_departamento como String\n",
    "X['categoria_departamento'] = X['categoria_departamento'].astype('str')"
   ]
  },
  {
   "cell_type": "code",
   "execution_count": 6,
   "metadata": {},
   "outputs": [],
   "source": [
    "# Crear datasets de entrenamiento(80%) y validación(20%). \n",
    "X_train, X_test, y_train, y_test = train_test_split(\n",
    "   X, y, test_size=0.2, random_state=42\n",
    ")"
   ]
  },
  {
   "cell_type": "code",
   "execution_count": 7,
   "metadata": {},
   "outputs": [
    {
     "name": "stdout",
     "output_type": "stream",
     "text": [
      "[Pipeline] ..... (step 1 of 3) Processing undersampling, total=  32.6s\n",
      "[Pipeline] ...... (step 2 of 3) Processing preprocessor, total=   0.2s\n",
      "[Pipeline] ........ (step 3 of 3) Processing classifier, total=   0.9s\n"
     ]
    }
   ],
   "source": [
    "# Fit the tuned_pipeline on the training data\n",
    "tuned_pipeline = grid.best_estimator_.fit(X_train, y_train)"
   ]
  },
  {
   "cell_type": "code",
   "execution_count": 8,
   "metadata": {},
   "outputs": [
    {
     "data": {
      "text/plain": [
       "['GradientBoosting_BestParameters_RandomUnderSampling.joblib']"
      ]
     },
     "execution_count": 8,
     "metadata": {},
     "output_type": "execute_result"
    }
   ],
   "source": [
    "# Save pipeline for future use without fitting\n",
    "joblib.dump(tuned_pipeline, 'GradientBoosting_BestParameters_RandomUnderSampling.joblib')"
   ]
  },
  {
   "cell_type": "code",
   "execution_count": 9,
   "metadata": {},
   "outputs": [],
   "source": [
    "y_pred = tuned_pipeline.predict(X_test)"
   ]
  },
  {
   "cell_type": "code",
   "execution_count": 10,
   "metadata": {},
   "outputs": [
    {
     "name": "stdout",
     "output_type": "stream",
     "text": [
      "\n",
      "Classification Report:\n",
      "              precision    recall  f1-score   support\n",
      "\n",
      "   Fallecido       0.03      0.92      0.05     28406\n",
      "       Grave       0.00      0.00      0.00        20\n",
      "        Leve       0.99      0.03      0.06   1241299\n",
      "    Moderado       0.00      0.12      0.00       216\n",
      "\n",
      "    accuracy                           0.05   1269941\n",
      "   macro avg       0.25      0.27      0.03   1269941\n",
      "weighted avg       0.97      0.05      0.06   1269941\n",
      "\n"
     ]
    }
   ],
   "source": [
    "# Generate classification report\n",
    "report = classification_report(y_test, y_pred)\n",
    "print(\"\\nClassification Report:\")\n",
    "print(report)\n"
   ]
  }
 ],
 "metadata": {
  "kernelspec": {
   "display_name": "Python 3",
   "language": "python",
   "name": "python3"
  },
  "language_info": {
   "codemirror_mode": {
    "name": "ipython",
    "version": 3
   },
   "file_extension": ".py",
   "mimetype": "text/x-python",
   "name": "python",
   "nbconvert_exporter": "python",
   "pygments_lexer": "ipython3",
   "version": "3.11.4"
  }
 },
 "nbformat": 4,
 "nbformat_minor": 2
}
