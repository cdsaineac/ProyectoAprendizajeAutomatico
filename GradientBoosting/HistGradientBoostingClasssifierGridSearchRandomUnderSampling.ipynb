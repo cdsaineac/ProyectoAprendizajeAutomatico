{
 "cells": [
  {
   "cell_type": "code",
   "execution_count": 1,
   "metadata": {},
   "outputs": [],
   "source": [
    "import pandas as pd\n",
    "import joblib\n",
    "from sklearn.compose import ColumnTransformer\n",
    "from sklearn.ensemble import HistGradientBoostingClassifier\n",
    "from sklearn.metrics import classification_report\n",
    "from sklearn.model_selection import train_test_split\n",
    "from sklearn.preprocessing import OneHotEncoder, StandardScaler\n",
    "from sklearn.model_selection import GridSearchCV\n",
    "from imblearn.pipeline import Pipeline as ImbPipeline\n",
    "from imblearn.under_sampling import RandomUnderSampler"
   ]
  },
  {
   "cell_type": "code",
   "execution_count": 2,
   "metadata": {},
   "outputs": [
    {
     "name": "stderr",
     "output_type": "stream",
     "text": [
      "C:\\Users\\crist\\AppData\\Local\\Temp\\ipykernel_13728\\3897947433.py:2: DtypeWarning: Columns (5) have mixed types. Specify dtype option on import or set low_memory=False.\n",
      "  covid_data = pd.read_csv(\"../covid19_clean_data.csv\", index_col=0)\n"
     ]
    },
    {
     "data": {
      "text/plain": [
       "(6349701, 11)"
      ]
     },
     "execution_count": 2,
     "metadata": {},
     "output_type": "execute_result"
    }
   ],
   "source": [
    "# Cargar datos preprocesados\n",
    "covid_data = pd.read_csv(\"../covid19_clean_data.csv\", index_col=0)\n",
    "covid_data.shape"
   ]
  },
  {
   "cell_type": "code",
   "execution_count": 3,
   "metadata": {},
   "outputs": [],
   "source": [
    "# Separar las caracteristicas de las clases \n",
    "X = covid_data.drop(\"estado\", axis=1)\n",
    "y = covid_data[\"estado\"]"
   ]
  },
  {
   "cell_type": "code",
   "execution_count": 4,
   "metadata": {},
   "outputs": [],
   "source": [
    "# Forzar formateo de categoria_departamento como String\n",
    "X['categoria_departamento'] = X['categoria_departamento'].astype('str')"
   ]
  },
  {
   "cell_type": "code",
   "execution_count": 5,
   "metadata": {},
   "outputs": [],
   "source": [
    "# Crear datasets de entrenamiento(80%) y validación(20%). \n",
    "X_train, X_test, y_train, y_test = train_test_split(\n",
    "   X, y, test_size=0.2, random_state=42\n",
    ")"
   ]
  },
  {
   "cell_type": "code",
   "execution_count": 6,
   "metadata": {},
   "outputs": [],
   "source": [
    "# Definición de variables categoricas a usar en el modelo\n",
    "    # Se excluyen las variables departamento y municipio, se usaran las categorias\n",
    "categorical_features = ['categoria_departamento','sexo', 'tipo_contagio', 'asintomatico','rango_edad']#,'departamento','municipio'\n",
    "\n",
    "# Definición de variables númericas a usar en el modelo\n",
    "    # Excluye asintomatico pues el modelo considera la variable no relevante\n",
    "    # Excluye id_caso pues no infiere en la clasificacón del estado\n",
    "numerical_features = ['poblacion_departamento','edad'] \n",
    "\n",
    "# Preprocesamiento de las caracteristicas categoricas y númericas definidas previamente\n",
    "preprocessor = ColumnTransformer(\n",
    "   transformers=[\n",
    "       (\"cat\", OneHotEncoder(), categorical_features),\n",
    "       (\"num\", StandardScaler(), numerical_features),\n",
    "   ]\n",
    ")"
   ]
  },
  {
   "cell_type": "markdown",
   "metadata": {},
   "source": [
    "# Creación de flujo de trabajo que seguirá el modelo"
   ]
  },
  {
   "cell_type": "code",
   "execution_count": 8,
   "metadata": {},
   "outputs": [],
   "source": [
    "pipeline = ImbPipeline(\n",
    "   [\n",
    "       ('undersampling', RandomUnderSampler(sampling_strategy = 'majority', random_state=42)),\n",
    "       (\"preprocessor\", preprocessor),\n",
    "       (\"classifier\", HistGradientBoostingClassifier(random_state=42))\n",
    "   ],\n",
    "   verbose=True\n",
    ")"
   ]
  },
  {
   "cell_type": "code",
   "execution_count": 9,
   "metadata": {},
   "outputs": [],
   "source": [
    "grid =  GridSearchCV(\n",
    "    pipeline,\n",
    "    param_grid = { \n",
    "        'classifier__max_iter': [50, 100, 150],\n",
    "        'classifier__learning_rate': [0.5, 0.1, 0.01], \n",
    "        'classifier__max_depth': [3, 9, None]}, \n",
    "    n_jobs=-1,\n",
    "    cv=2,\n",
    "    error_score='raise'\n",
    ")"
   ]
  },
  {
   "cell_type": "code",
   "execution_count": 10,
   "metadata": {},
   "outputs": [
    {
     "name": "stdout",
     "output_type": "stream",
     "text": [
      "[Pipeline] ..... (step 1 of 3) Processing undersampling, total=  26.3s\n",
      "[Pipeline] ...... (step 2 of 3) Processing preprocessor, total=   0.3s\n",
      "[Pipeline] ........ (step 3 of 3) Processing classifier, total=   1.2s\n"
     ]
    },
    {
     "data": {
      "text/html": [
       "<style>#sk-container-id-1 {color: black;}#sk-container-id-1 pre{padding: 0;}#sk-container-id-1 div.sk-toggleable {background-color: white;}#sk-container-id-1 label.sk-toggleable__label {cursor: pointer;display: block;width: 100%;margin-bottom: 0;padding: 0.3em;box-sizing: border-box;text-align: center;}#sk-container-id-1 label.sk-toggleable__label-arrow:before {content: \"▸\";float: left;margin-right: 0.25em;color: #696969;}#sk-container-id-1 label.sk-toggleable__label-arrow:hover:before {color: black;}#sk-container-id-1 div.sk-estimator:hover label.sk-toggleable__label-arrow:before {color: black;}#sk-container-id-1 div.sk-toggleable__content {max-height: 0;max-width: 0;overflow: hidden;text-align: left;background-color: #f0f8ff;}#sk-container-id-1 div.sk-toggleable__content pre {margin: 0.2em;color: black;border-radius: 0.25em;background-color: #f0f8ff;}#sk-container-id-1 input.sk-toggleable__control:checked~div.sk-toggleable__content {max-height: 200px;max-width: 100%;overflow: auto;}#sk-container-id-1 input.sk-toggleable__control:checked~label.sk-toggleable__label-arrow:before {content: \"▾\";}#sk-container-id-1 div.sk-estimator input.sk-toggleable__control:checked~label.sk-toggleable__label {background-color: #d4ebff;}#sk-container-id-1 div.sk-label input.sk-toggleable__control:checked~label.sk-toggleable__label {background-color: #d4ebff;}#sk-container-id-1 input.sk-hidden--visually {border: 0;clip: rect(1px 1px 1px 1px);clip: rect(1px, 1px, 1px, 1px);height: 1px;margin: -1px;overflow: hidden;padding: 0;position: absolute;width: 1px;}#sk-container-id-1 div.sk-estimator {font-family: monospace;background-color: #f0f8ff;border: 1px dotted black;border-radius: 0.25em;box-sizing: border-box;margin-bottom: 0.5em;}#sk-container-id-1 div.sk-estimator:hover {background-color: #d4ebff;}#sk-container-id-1 div.sk-parallel-item::after {content: \"\";width: 100%;border-bottom: 1px solid gray;flex-grow: 1;}#sk-container-id-1 div.sk-label:hover label.sk-toggleable__label {background-color: #d4ebff;}#sk-container-id-1 div.sk-serial::before {content: \"\";position: absolute;border-left: 1px solid gray;box-sizing: border-box;top: 0;bottom: 0;left: 50%;z-index: 0;}#sk-container-id-1 div.sk-serial {display: flex;flex-direction: column;align-items: center;background-color: white;padding-right: 0.2em;padding-left: 0.2em;position: relative;}#sk-container-id-1 div.sk-item {position: relative;z-index: 1;}#sk-container-id-1 div.sk-parallel {display: flex;align-items: stretch;justify-content: center;background-color: white;position: relative;}#sk-container-id-1 div.sk-item::before, #sk-container-id-1 div.sk-parallel-item::before {content: \"\";position: absolute;border-left: 1px solid gray;box-sizing: border-box;top: 0;bottom: 0;left: 50%;z-index: -1;}#sk-container-id-1 div.sk-parallel-item {display: flex;flex-direction: column;z-index: 1;position: relative;background-color: white;}#sk-container-id-1 div.sk-parallel-item:first-child::after {align-self: flex-end;width: 50%;}#sk-container-id-1 div.sk-parallel-item:last-child::after {align-self: flex-start;width: 50%;}#sk-container-id-1 div.sk-parallel-item:only-child::after {width: 0;}#sk-container-id-1 div.sk-dashed-wrapped {border: 1px dashed gray;margin: 0 0.4em 0.5em 0.4em;box-sizing: border-box;padding-bottom: 0.4em;background-color: white;}#sk-container-id-1 div.sk-label label {font-family: monospace;font-weight: bold;display: inline-block;line-height: 1.2em;}#sk-container-id-1 div.sk-label-container {text-align: center;}#sk-container-id-1 div.sk-container {/* jupyter's `normalize.less` sets `[hidden] { display: none; }` but bootstrap.min.css set `[hidden] { display: none !important; }` so we also need the `!important` here to be able to override the default hidden behavior on the sphinx rendered scikit-learn.org. See: https://github.com/scikit-learn/scikit-learn/issues/21755 */display: inline-block !important;position: relative;}#sk-container-id-1 div.sk-text-repr-fallback {display: none;}</style><div id=\"sk-container-id-1\" class=\"sk-top-container\"><div class=\"sk-text-repr-fallback\"><pre>GridSearchCV(cv=2, error_score=&#x27;raise&#x27;,\n",
       "             estimator=Pipeline(steps=[(&#x27;undersampling&#x27;,\n",
       "                                        RandomUnderSampler(random_state=42,\n",
       "                                                           sampling_strategy=&#x27;majority&#x27;)),\n",
       "                                       (&#x27;preprocessor&#x27;,\n",
       "                                        ColumnTransformer(transformers=[(&#x27;cat&#x27;,\n",
       "                                                                         OneHotEncoder(),\n",
       "                                                                         [&#x27;categoria_departamento&#x27;,\n",
       "                                                                          &#x27;sexo&#x27;,\n",
       "                                                                          &#x27;tipo_contagio&#x27;,\n",
       "                                                                          &#x27;asintomatico&#x27;,\n",
       "                                                                          &#x27;rango_edad&#x27;]),\n",
       "                                                                        (&#x27;num&#x27;,\n",
       "                                                                         StandardScaler(),\n",
       "                                                                         [&#x27;poblacion_departamento&#x27;,\n",
       "                                                                          &#x27;edad&#x27;])])),\n",
       "                                       (&#x27;classifier&#x27;,\n",
       "                                        HistGradientBoostingClassifier(random_state=42))],\n",
       "                                verbose=True),\n",
       "             n_jobs=-1,\n",
       "             param_grid={&#x27;classifier__learning_rate&#x27;: [0.5, 0.1, 0.01],\n",
       "                         &#x27;classifier__max_depth&#x27;: [3, 9, None],\n",
       "                         &#x27;classifier__max_iter&#x27;: [50, 100, 150]})</pre><b>In a Jupyter environment, please rerun this cell to show the HTML representation or trust the notebook. <br />On GitHub, the HTML representation is unable to render, please try loading this page with nbviewer.org.</b></div><div class=\"sk-container\" hidden><div class=\"sk-item sk-dashed-wrapped\"><div class=\"sk-label-container\"><div class=\"sk-label sk-toggleable\"><input class=\"sk-toggleable__control sk-hidden--visually\" id=\"sk-estimator-id-1\" type=\"checkbox\" ><label for=\"sk-estimator-id-1\" class=\"sk-toggleable__label sk-toggleable__label-arrow\">GridSearchCV</label><div class=\"sk-toggleable__content\"><pre>GridSearchCV(cv=2, error_score=&#x27;raise&#x27;,\n",
       "             estimator=Pipeline(steps=[(&#x27;undersampling&#x27;,\n",
       "                                        RandomUnderSampler(random_state=42,\n",
       "                                                           sampling_strategy=&#x27;majority&#x27;)),\n",
       "                                       (&#x27;preprocessor&#x27;,\n",
       "                                        ColumnTransformer(transformers=[(&#x27;cat&#x27;,\n",
       "                                                                         OneHotEncoder(),\n",
       "                                                                         [&#x27;categoria_departamento&#x27;,\n",
       "                                                                          &#x27;sexo&#x27;,\n",
       "                                                                          &#x27;tipo_contagio&#x27;,\n",
       "                                                                          &#x27;asintomatico&#x27;,\n",
       "                                                                          &#x27;rango_edad&#x27;]),\n",
       "                                                                        (&#x27;num&#x27;,\n",
       "                                                                         StandardScaler(),\n",
       "                                                                         [&#x27;poblacion_departamento&#x27;,\n",
       "                                                                          &#x27;edad&#x27;])])),\n",
       "                                       (&#x27;classifier&#x27;,\n",
       "                                        HistGradientBoostingClassifier(random_state=42))],\n",
       "                                verbose=True),\n",
       "             n_jobs=-1,\n",
       "             param_grid={&#x27;classifier__learning_rate&#x27;: [0.5, 0.1, 0.01],\n",
       "                         &#x27;classifier__max_depth&#x27;: [3, 9, None],\n",
       "                         &#x27;classifier__max_iter&#x27;: [50, 100, 150]})</pre></div></div></div><div class=\"sk-parallel\"><div class=\"sk-parallel-item\"><div class=\"sk-item\"><div class=\"sk-label-container\"><div class=\"sk-label sk-toggleable\"><input class=\"sk-toggleable__control sk-hidden--visually\" id=\"sk-estimator-id-2\" type=\"checkbox\" ><label for=\"sk-estimator-id-2\" class=\"sk-toggleable__label sk-toggleable__label-arrow\">estimator: Pipeline</label><div class=\"sk-toggleable__content\"><pre>Pipeline(steps=[(&#x27;undersampling&#x27;,\n",
       "                 RandomUnderSampler(random_state=42,\n",
       "                                    sampling_strategy=&#x27;majority&#x27;)),\n",
       "                (&#x27;preprocessor&#x27;,\n",
       "                 ColumnTransformer(transformers=[(&#x27;cat&#x27;, OneHotEncoder(),\n",
       "                                                  [&#x27;categoria_departamento&#x27;,\n",
       "                                                   &#x27;sexo&#x27;, &#x27;tipo_contagio&#x27;,\n",
       "                                                   &#x27;asintomatico&#x27;,\n",
       "                                                   &#x27;rango_edad&#x27;]),\n",
       "                                                 (&#x27;num&#x27;, StandardScaler(),\n",
       "                                                  [&#x27;poblacion_departamento&#x27;,\n",
       "                                                   &#x27;edad&#x27;])])),\n",
       "                (&#x27;classifier&#x27;,\n",
       "                 HistGradientBoostingClassifier(random_state=42))],\n",
       "         verbose=True)</pre></div></div></div><div class=\"sk-serial\"><div class=\"sk-item\"><div class=\"sk-serial\"><div class=\"sk-item\"><div class=\"sk-estimator sk-toggleable\"><input class=\"sk-toggleable__control sk-hidden--visually\" id=\"sk-estimator-id-3\" type=\"checkbox\" ><label for=\"sk-estimator-id-3\" class=\"sk-toggleable__label sk-toggleable__label-arrow\">RandomUnderSampler</label><div class=\"sk-toggleable__content\"><pre>RandomUnderSampler(random_state=42, sampling_strategy=&#x27;majority&#x27;)</pre></div></div></div><div class=\"sk-item sk-dashed-wrapped\"><div class=\"sk-label-container\"><div class=\"sk-label sk-toggleable\"><input class=\"sk-toggleable__control sk-hidden--visually\" id=\"sk-estimator-id-4\" type=\"checkbox\" ><label for=\"sk-estimator-id-4\" class=\"sk-toggleable__label sk-toggleable__label-arrow\">preprocessor: ColumnTransformer</label><div class=\"sk-toggleable__content\"><pre>ColumnTransformer(transformers=[(&#x27;cat&#x27;, OneHotEncoder(),\n",
       "                                 [&#x27;categoria_departamento&#x27;, &#x27;sexo&#x27;,\n",
       "                                  &#x27;tipo_contagio&#x27;, &#x27;asintomatico&#x27;,\n",
       "                                  &#x27;rango_edad&#x27;]),\n",
       "                                (&#x27;num&#x27;, StandardScaler(),\n",
       "                                 [&#x27;poblacion_departamento&#x27;, &#x27;edad&#x27;])])</pre></div></div></div><div class=\"sk-parallel\"><div class=\"sk-parallel-item\"><div class=\"sk-item\"><div class=\"sk-label-container\"><div class=\"sk-label sk-toggleable\"><input class=\"sk-toggleable__control sk-hidden--visually\" id=\"sk-estimator-id-5\" type=\"checkbox\" ><label for=\"sk-estimator-id-5\" class=\"sk-toggleable__label sk-toggleable__label-arrow\">cat</label><div class=\"sk-toggleable__content\"><pre>[&#x27;categoria_departamento&#x27;, &#x27;sexo&#x27;, &#x27;tipo_contagio&#x27;, &#x27;asintomatico&#x27;, &#x27;rango_edad&#x27;]</pre></div></div></div><div class=\"sk-serial\"><div class=\"sk-item\"><div class=\"sk-estimator sk-toggleable\"><input class=\"sk-toggleable__control sk-hidden--visually\" id=\"sk-estimator-id-6\" type=\"checkbox\" ><label for=\"sk-estimator-id-6\" class=\"sk-toggleable__label sk-toggleable__label-arrow\">OneHotEncoder</label><div class=\"sk-toggleable__content\"><pre>OneHotEncoder()</pre></div></div></div></div></div></div><div class=\"sk-parallel-item\"><div class=\"sk-item\"><div class=\"sk-label-container\"><div class=\"sk-label sk-toggleable\"><input class=\"sk-toggleable__control sk-hidden--visually\" id=\"sk-estimator-id-7\" type=\"checkbox\" ><label for=\"sk-estimator-id-7\" class=\"sk-toggleable__label sk-toggleable__label-arrow\">num</label><div class=\"sk-toggleable__content\"><pre>[&#x27;poblacion_departamento&#x27;, &#x27;edad&#x27;]</pre></div></div></div><div class=\"sk-serial\"><div class=\"sk-item\"><div class=\"sk-estimator sk-toggleable\"><input class=\"sk-toggleable__control sk-hidden--visually\" id=\"sk-estimator-id-8\" type=\"checkbox\" ><label for=\"sk-estimator-id-8\" class=\"sk-toggleable__label sk-toggleable__label-arrow\">StandardScaler</label><div class=\"sk-toggleable__content\"><pre>StandardScaler()</pre></div></div></div></div></div></div></div></div><div class=\"sk-item\"><div class=\"sk-estimator sk-toggleable\"><input class=\"sk-toggleable__control sk-hidden--visually\" id=\"sk-estimator-id-9\" type=\"checkbox\" ><label for=\"sk-estimator-id-9\" class=\"sk-toggleable__label sk-toggleable__label-arrow\">HistGradientBoostingClassifier</label><div class=\"sk-toggleable__content\"><pre>HistGradientBoostingClassifier(random_state=42)</pre></div></div></div></div></div></div></div></div></div></div></div></div>"
      ],
      "text/plain": [
       "GridSearchCV(cv=2, error_score='raise',\n",
       "             estimator=Pipeline(steps=[('undersampling',\n",
       "                                        RandomUnderSampler(random_state=42,\n",
       "                                                           sampling_strategy='majority')),\n",
       "                                       ('preprocessor',\n",
       "                                        ColumnTransformer(transformers=[('cat',\n",
       "                                                                         OneHotEncoder(),\n",
       "                                                                         ['categoria_departamento',\n",
       "                                                                          'sexo',\n",
       "                                                                          'tipo_contagio',\n",
       "                                                                          'asintomatico',\n",
       "                                                                          'rango_edad']),\n",
       "                                                                        ('num',\n",
       "                                                                         StandardScaler(),\n",
       "                                                                         ['poblacion_departamento',\n",
       "                                                                          'edad'])])),\n",
       "                                       ('classifier',\n",
       "                                        HistGradientBoostingClassifier(random_state=42))],\n",
       "                                verbose=True),\n",
       "             n_jobs=-1,\n",
       "             param_grid={'classifier__learning_rate': [0.5, 0.1, 0.01],\n",
       "                         'classifier__max_depth': [3, 9, None],\n",
       "                         'classifier__max_iter': [50, 100, 150]})"
      ]
     },
     "execution_count": 10,
     "metadata": {},
     "output_type": "execute_result"
    }
   ],
   "source": [
    "# Fit the grid on the training data\n",
    "grid.fit(X_train, y_train)"
   ]
  },
  {
   "cell_type": "code",
   "execution_count": 11,
   "metadata": {},
   "outputs": [
    {
     "data": {
      "text/plain": [
       "['GradientBoosting_GridSearch_RandomUnderSampling.joblib']"
      ]
     },
     "execution_count": 11,
     "metadata": {},
     "output_type": "execute_result"
    }
   ],
   "source": [
    "# Save pipeline for future use without fitting\n",
    "joblib.dump(grid, 'GradientBoosting_GridSearch_RandomUnderSampling.joblib')"
   ]
  },
  {
   "cell_type": "code",
   "execution_count": 12,
   "metadata": {},
   "outputs": [
    {
     "data": {
      "text/plain": [
       "array(['Fallecido', 'Fallecido', 'Fallecido', ..., 'Fallecido',\n",
       "       'Fallecido', 'Grave'], dtype=object)"
      ]
     },
     "execution_count": 12,
     "metadata": {},
     "output_type": "execute_result"
    }
   ],
   "source": [
    "grid.predict(X_test)"
   ]
  },
  {
   "cell_type": "code",
   "execution_count": 13,
   "metadata": {},
   "outputs": [
    {
     "name": "stdout",
     "output_type": "stream",
     "text": [
      "{'mean_fit_time': array([18.34695613, 17.70805728, 16.68869352, 19.86729026, 21.94318295,\n",
      "       19.46460104, 21.73116434, 20.18914604, 27.59866953, 25.69423139,\n",
      "       22.04509962, 19.52845478, 21.91300797, 19.39580798, 21.48638332,\n",
      "       20.8942945 , 21.86262155, 19.55673099, 22.56236863, 26.36906612,\n",
      "       27.0415715 , 23.3613081 , 27.64988685, 30.16331327, 23.39307272,\n",
      "       25.88127983, 29.48494852]), 'std_fit_time': array([0.36592257, 0.42961848, 0.05443382, 1.38486433, 0.58404231,\n",
      "       0.5476172 , 0.08518112, 0.89780045, 2.15936947, 2.23493564,\n",
      "       0.61143982, 0.43269324, 0.68261099, 0.71209288, 0.26943362,\n",
      "       0.35445905, 0.0231936 , 0.5766046 , 0.01916647, 0.46265614,\n",
      "       0.47960365, 0.49620771, 0.917377  , 4.34829199, 0.62839305,\n",
      "       1.4315244 , 3.76557171]), 'mean_score_time': array([ 24.01712692,  21.85100484,  30.33138156,  35.76592755,\n",
      "        31.37803483,  33.92804265,  30.47198653,  33.98129845,\n",
      "        34.38692045,  27.34317207,  23.86992455,  25.95015037,\n",
      "        33.69537556,  36.06355929,  33.27377605,  33.83468997,\n",
      "        31.39619672,  32.3678025 ,  77.1917851 , 137.64099705,\n",
      "       206.13482177, 113.38976479, 160.46055222, 220.92781007,\n",
      "        98.29185462, 156.91800249, 176.02777958]), 'std_score_time': array([2.16286063e-01, 9.29302931e-01, 4.15621758e-01, 1.45365024e+00,\n",
      "       8.34838629e-01, 3.05102825e-01, 8.40206861e-01, 5.78826427e-01,\n",
      "       1.37509441e+00, 7.11287737e-01, 9.18403149e-01, 5.32914400e-02,\n",
      "       1.35207450e+00, 5.15995264e-01, 9.66357470e-01, 2.23973155e-01,\n",
      "       1.17801344e+00, 1.63725019e-01, 1.60386062e+00, 3.50041425e+00,\n",
      "       4.93027842e+00, 2.17094231e+00, 2.81937928e+01, 7.90413123e+01,\n",
      "       1.81395102e+00, 2.04531659e+01, 4.66409407e+01]), 'param_classifier__learning_rate': masked_array(data=[0.5, 0.5, 0.5, 0.5, 0.5, 0.5, 0.5, 0.5, 0.5, 0.1, 0.1,\n",
      "                   0.1, 0.1, 0.1, 0.1, 0.1, 0.1, 0.1, 0.01, 0.01, 0.01,\n",
      "                   0.01, 0.01, 0.01, 0.01, 0.01, 0.01],\n",
      "             mask=[False, False, False, False, False, False, False, False,\n",
      "                   False, False, False, False, False, False, False, False,\n",
      "                   False, False, False, False, False, False, False, False,\n",
      "                   False, False, False],\n",
      "       fill_value='?',\n",
      "            dtype=object), 'param_classifier__max_depth': masked_array(data=[3, 3, 3, 9, 9, 9, None, None, None, 3, 3, 3, 9, 9, 9,\n",
      "                   None, None, None, 3, 3, 3, 9, 9, 9, None, None, None],\n",
      "             mask=[False, False, False, False, False, False, False, False,\n",
      "                   False, False, False, False, False, False, False, False,\n",
      "                   False, False, False, False, False, False, False, False,\n",
      "                   False, False, False],\n",
      "       fill_value='?',\n",
      "            dtype=object), 'param_classifier__max_iter': masked_array(data=[50, 100, 150, 50, 100, 150, 50, 100, 150, 50, 100, 150,\n",
      "                   50, 100, 150, 50, 100, 150, 50, 100, 150, 50, 100, 150,\n",
      "                   50, 100, 150],\n",
      "             mask=[False, False, False, False, False, False, False, False,\n",
      "                   False, False, False, False, False, False, False, False,\n",
      "                   False, False, False, False, False, False, False, False,\n",
      "                   False, False, False],\n",
      "       fill_value='?',\n",
      "            dtype=object), 'params': [{'classifier__learning_rate': 0.5, 'classifier__max_depth': 3, 'classifier__max_iter': 50}, {'classifier__learning_rate': 0.5, 'classifier__max_depth': 3, 'classifier__max_iter': 100}, {'classifier__learning_rate': 0.5, 'classifier__max_depth': 3, 'classifier__max_iter': 150}, {'classifier__learning_rate': 0.5, 'classifier__max_depth': 9, 'classifier__max_iter': 50}, {'classifier__learning_rate': 0.5, 'classifier__max_depth': 9, 'classifier__max_iter': 100}, {'classifier__learning_rate': 0.5, 'classifier__max_depth': 9, 'classifier__max_iter': 150}, {'classifier__learning_rate': 0.5, 'classifier__max_depth': None, 'classifier__max_iter': 50}, {'classifier__learning_rate': 0.5, 'classifier__max_depth': None, 'classifier__max_iter': 100}, {'classifier__learning_rate': 0.5, 'classifier__max_depth': None, 'classifier__max_iter': 150}, {'classifier__learning_rate': 0.1, 'classifier__max_depth': 3, 'classifier__max_iter': 50}, {'classifier__learning_rate': 0.1, 'classifier__max_depth': 3, 'classifier__max_iter': 100}, {'classifier__learning_rate': 0.1, 'classifier__max_depth': 3, 'classifier__max_iter': 150}, {'classifier__learning_rate': 0.1, 'classifier__max_depth': 9, 'classifier__max_iter': 50}, {'classifier__learning_rate': 0.1, 'classifier__max_depth': 9, 'classifier__max_iter': 100}, {'classifier__learning_rate': 0.1, 'classifier__max_depth': 9, 'classifier__max_iter': 150}, {'classifier__learning_rate': 0.1, 'classifier__max_depth': None, 'classifier__max_iter': 50}, {'classifier__learning_rate': 0.1, 'classifier__max_depth': None, 'classifier__max_iter': 100}, {'classifier__learning_rate': 0.1, 'classifier__max_depth': None, 'classifier__max_iter': 150}, {'classifier__learning_rate': 0.01, 'classifier__max_depth': 3, 'classifier__max_iter': 50}, {'classifier__learning_rate': 0.01, 'classifier__max_depth': 3, 'classifier__max_iter': 100}, {'classifier__learning_rate': 0.01, 'classifier__max_depth': 3, 'classifier__max_iter': 150}, {'classifier__learning_rate': 0.01, 'classifier__max_depth': 9, 'classifier__max_iter': 50}, {'classifier__learning_rate': 0.01, 'classifier__max_depth': 9, 'classifier__max_iter': 100}, {'classifier__learning_rate': 0.01, 'classifier__max_depth': 9, 'classifier__max_iter': 150}, {'classifier__learning_rate': 0.01, 'classifier__max_depth': None, 'classifier__max_iter': 50}, {'classifier__learning_rate': 0.01, 'classifier__max_depth': None, 'classifier__max_iter': 100}, {'classifier__learning_rate': 0.01, 'classifier__max_depth': None, 'classifier__max_iter': 150}], 'split0_test_score': array([0.04397058, 0.04397058, 0.04397058, 0.01706852, 0.01706852,\n",
      "       0.01706852, 0.04049404, 0.04049404, 0.04049404, 0.05025749,\n",
      "       0.05025749, 0.05025749, 0.04427886, 0.04427886, 0.04427886,\n",
      "       0.04700852, 0.04700852, 0.04700852, 0.02261012, 0.02262193,\n",
      "       0.02262469, 0.02260382, 0.0226243 , 0.02605281, 0.02260382,\n",
      "       0.02262469, 0.02563034]), 'split1_test_score': array([0.0224613 , 0.0224613 , 0.0224613 , 0.02614887, 0.02614887,\n",
      "       0.02614887, 0.05363797, 0.05363797, 0.05363797, 0.03126368,\n",
      "       0.03126368, 0.03126368, 0.03373624, 0.03373624, 0.03373624,\n",
      "       0.04164291, 0.04164291, 0.04164291, 0.02260894, 0.0226243 ,\n",
      "       0.02262075, 0.02260343, 0.02262233, 0.02262233, 0.02260264,\n",
      "       0.02262233, 0.02262233]), 'mean_test_score': array([0.03321594, 0.03321594, 0.03321594, 0.0216087 , 0.0216087 ,\n",
      "       0.0216087 , 0.047066  , 0.047066  , 0.047066  , 0.04076059,\n",
      "       0.04076059, 0.04076059, 0.03900755, 0.03900755, 0.03900755,\n",
      "       0.04432572, 0.04432572, 0.04432572, 0.02260953, 0.02262312,\n",
      "       0.02262272, 0.02260363, 0.02262331, 0.02433757, 0.02260323,\n",
      "       0.02262351, 0.02412634]), 'std_test_score': array([1.07546420e-02, 1.07546420e-02, 1.07546420e-02, 4.54017513e-03,\n",
      "       4.54017513e-03, 4.54017513e-03, 6.57196403e-03, 6.57196403e-03,\n",
      "       6.57196403e-03, 9.49690537e-03, 9.49690537e-03, 9.49690537e-03,\n",
      "       5.27131203e-03, 5.27131203e-03, 5.27131203e-03, 2.68280391e-03,\n",
      "       2.68280391e-03, 2.68280391e-03, 5.90579082e-07, 1.18115816e-06,\n",
      "       1.96859694e-06, 1.96859694e-07, 9.84298471e-07, 1.71523852e-03,\n",
      "       5.90579082e-07, 1.18115816e-06, 1.50400806e-03]), 'rank_test_score': array([13, 13, 13, 25, 25, 25,  1,  1,  1,  7,  7,  7, 10, 10, 10,  4,  4,\n",
      "        4, 22, 20, 21, 23, 19, 16, 24, 18, 17])}\n",
      "Pipeline(steps=[('undersampling',\n",
      "                 RandomUnderSampler(random_state=42,\n",
      "                                    sampling_strategy='majority')),\n",
      "                ('preprocessor',\n",
      "                 ColumnTransformer(transformers=[('cat', OneHotEncoder(),\n",
      "                                                  ['categoria_departamento',\n",
      "                                                   'sexo', 'tipo_contagio',\n",
      "                                                   'asintomatico',\n",
      "                                                   'rango_edad']),\n",
      "                                                 ('num', StandardScaler(),\n",
      "                                                  ['poblacion_departamento',\n",
      "                                                   'edad'])])),\n",
      "                ('classifier',\n",
      "                 HistGradientBoostingClassifier(learning_rate=0.5, max_iter=50,\n",
      "                                                random_state=42))],\n",
      "         verbose=True)\n",
      "0.04706600311825755\n"
     ]
    }
   ],
   "source": [
    "# Best parameters\n",
    "print(grid.cv_results_)\n",
    "print(grid.best_estimator_)\n",
    "print(grid.best_score_)"
   ]
  },
  {
   "cell_type": "code",
   "execution_count": 14,
   "metadata": {},
   "outputs": [
    {
     "name": "stdout",
     "output_type": "stream",
     "text": [
      "[Pipeline] ..... (step 1 of 3) Processing undersampling, total=  27.3s\n",
      "[Pipeline] ...... (step 2 of 3) Processing preprocessor, total=   0.2s\n",
      "[Pipeline] ........ (step 3 of 3) Processing classifier, total=   0.9s\n"
     ]
    }
   ],
   "source": [
    "# Fit the tuned_pipeline on the training data\n",
    "tuned_pipeline = grid.best_estimator_.fit(X_train, y_train)"
   ]
  },
  {
   "cell_type": "code",
   "execution_count": 15,
   "metadata": {},
   "outputs": [],
   "source": [
    "# Predict on the test set\n",
    "y_pred = tuned_pipeline.predict(X_test)"
   ]
  },
  {
   "cell_type": "code",
   "execution_count": 16,
   "metadata": {},
   "outputs": [
    {
     "name": "stdout",
     "output_type": "stream",
     "text": [
      "\n",
      "Classification Report:\n",
      "              precision    recall  f1-score   support\n",
      "\n",
      "   Fallecido       0.03      0.92      0.05     28406\n",
      "       Grave       0.00      0.00      0.00        20\n",
      "        Leve       0.99      0.03      0.06   1241299\n",
      "    Moderado       0.00      0.12      0.00       216\n",
      "\n",
      "    accuracy                           0.05   1269941\n",
      "   macro avg       0.25      0.27      0.03   1269941\n",
      "weighted avg       0.97      0.05      0.06   1269941\n",
      "\n"
     ]
    }
   ],
   "source": [
    "# Generate classification report\n",
    "report = classification_report(y_test, y_pred)\n",
    "print(\"\\nClassification Report:\")\n",
    "print(report)"
   ]
  },
  {
   "cell_type": "code",
   "execution_count": 17,
   "metadata": {},
   "outputs": [
    {
     "name": "stdout",
     "output_type": "stream",
     "text": [
      "['id_caso' 'departamento' 'municipio' 'poblacion_departamento'\n",
      " 'categoria_departamento' 'edad' 'sexo' 'tipo_contagio' 'asintomatico'\n",
      " 'rango_edad']\n",
      "['cat__categoria_departamento_1' 'cat__categoria_departamento_2'\n",
      " 'cat__categoria_departamento_3' 'cat__categoria_departamento_4'\n",
      " 'cat__categoria_departamento_ESP' 'cat__sexo_F' 'cat__sexo_M'\n",
      " 'cat__tipo_contagio_Comunitaria' 'cat__tipo_contagio_Importado'\n",
      " 'cat__tipo_contagio_Relacionado' 'cat__asintomatico_No'\n",
      " 'cat__asintomatico_Si' 'cat__rango_edad_0 a 4 años'\n",
      " 'cat__rango_edad_12 a 25 años' 'cat__rango_edad_26 a 40 años'\n",
      " 'cat__rango_edad_41 a 64 años' 'cat__rango_edad_5 a 11 años'\n",
      " 'cat__rango_edad_65 años y más' 'num__poblacion_departamento' 'num__edad']\n",
      "20\n"
     ]
    }
   ],
   "source": [
    "print(tuned_pipeline.named_steps.preprocessor.feature_names_in_)\n",
    "print(tuned_pipeline.named_steps.preprocessor.get_feature_names_out())\n",
    "print(tuned_pipeline.named_steps.classifier.n_features_in_)"
   ]
  },
  {
   "cell_type": "code",
   "execution_count": 18,
   "metadata": {},
   "outputs": [
    {
     "ename": "AttributeError",
     "evalue": "'HistGradientBoostingClassifier' object has no attribute 'feature_importances_'",
     "output_type": "error",
     "traceback": [
      "\u001b[1;31m---------------------------------------------------------------------------\u001b[0m",
      "\u001b[1;31mAttributeError\u001b[0m                            Traceback (most recent call last)",
      "Cell \u001b[1;32mIn[18], line 5\u001b[0m\n\u001b[0;32m      2\u001b[0m \u001b[38;5;28;01mfor\u001b[39;00m columns \u001b[38;5;129;01min\u001b[39;00m X\u001b[38;5;241m.\u001b[39mcolumns:\n\u001b[0;32m      3\u001b[0m     features\u001b[38;5;241m.\u001b[39mappend(columns)\n\u001b[1;32m----> 5\u001b[0m imp_features \u001b[38;5;241m=\u001b[39m \u001b[43mtuned_pipeline\u001b[49m\u001b[38;5;241;43m.\u001b[39;49m\u001b[43mnamed_steps\u001b[49m\u001b[38;5;241;43m.\u001b[39;49m\u001b[43mclassifier\u001b[49m\u001b[38;5;241;43m.\u001b[39;49m\u001b[43mfeature_importances_\u001b[49m\n\u001b[0;32m      7\u001b[0m df_imp_features \u001b[38;5;241m=\u001b[39m pd\u001b[38;5;241m.\u001b[39mDataFrame({\u001b[38;5;124m\"\u001b[39m\u001b[38;5;124mfeatures\u001b[39m\u001b[38;5;124m\"\u001b[39m:features})\u001b[38;5;241m.\u001b[39mjoin(pd\u001b[38;5;241m.\u001b[39mDataFrame({\u001b[38;5;124m\"\u001b[39m\u001b[38;5;124mweights\u001b[39m\u001b[38;5;124m\"\u001b[39m:imp_features}))\n\u001b[0;32m      8\u001b[0m df_imp_features\u001b[38;5;241m.\u001b[39msort_values(by\u001b[38;5;241m=\u001b[39m[\u001b[38;5;124m'\u001b[39m\u001b[38;5;124mweights\u001b[39m\u001b[38;5;124m'\u001b[39m], ascending\u001b[38;5;241m=\u001b[39m\u001b[38;5;28;01mFalse\u001b[39;00m)\n",
      "\u001b[1;31mAttributeError\u001b[0m: 'HistGradientBoostingClassifier' object has no attribute 'feature_importances_'"
     ]
    }
   ],
   "source": [
    "features=[]\n",
    "for columns in X.columns:\n",
    "    features.append(columns)\n",
    "    \n",
    "imp_features = tuned_pipeline.named_steps.classifier.feature_importances_\n",
    "\n",
    "df_imp_features = pd.DataFrame({\"features\":features}).join(pd.DataFrame({\"weights\":imp_features}))\n",
    "df_imp_features.sort_values(by=['weights'], ascending=False)"
   ]
  }
 ],
 "metadata": {
  "kernelspec": {
   "display_name": "Python 3",
   "language": "python",
   "name": "python3"
  },
  "language_info": {
   "codemirror_mode": {
    "name": "ipython",
    "version": 3
   },
   "file_extension": ".py",
   "mimetype": "text/x-python",
   "name": "python",
   "nbconvert_exporter": "python",
   "pygments_lexer": "ipython3",
   "version": "3.11.4"
  }
 },
 "nbformat": 4,
 "nbformat_minor": 2
}
