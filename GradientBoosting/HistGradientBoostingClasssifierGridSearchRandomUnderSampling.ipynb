{
 "cells": [
  {
   "cell_type": "code",
   "execution_count": 2,
   "metadata": {},
   "outputs": [],
   "source": [
    "import pandas as pd\n",
    "import joblib\n",
    "from sklearn.compose import ColumnTransformer\n",
    "from sklearn.ensemble import HistGradientBoostingClassifier\n",
    "from sklearn.metrics import classification_report\n",
    "from sklearn.model_selection import train_test_split\n",
    "from sklearn.preprocessing import OneHotEncoder, StandardScaler\n",
    "from sklearn.model_selection import GridSearchCV\n",
    "from imblearn.pipeline import Pipeline as ImbPipeline\n",
    "from imblearn.under_sampling import RandomUnderSampler"
   ]
  },
  {
   "cell_type": "code",
   "execution_count": 3,
   "metadata": {},
   "outputs": [
    {
     "data": {
      "text/plain": [
       "(6349701, 9)"
      ]
     },
     "execution_count": 3,
     "metadata": {},
     "output_type": "execute_result"
    }
   ],
   "source": [
    "# Cargar datos preprocesados\n",
    "covid_data = pd.read_csv(\"../covid19_clean_data.csv\", index_col=0)\n",
    "covid_data.shape"
   ]
  },
  {
   "cell_type": "code",
   "execution_count": 4,
   "metadata": {},
   "outputs": [],
   "source": [
    "# Separar las caracteristicas de las clases \n",
    "X = covid_data.drop(\"estado\", axis=1)\n",
    "y = covid_data[\"estado\"]"
   ]
  },
  {
   "cell_type": "code",
   "execution_count": 5,
   "metadata": {},
   "outputs": [],
   "source": [
    "# Crear datasets de entrenamiento(80%) y validación(20%). \n",
    "X_train, X_test, y_train, y_test = train_test_split(\n",
    "   X, y, test_size=0.2, random_state=42\n",
    ")"
   ]
  },
  {
   "cell_type": "code",
   "execution_count": 6,
   "metadata": {},
   "outputs": [],
   "source": [
    "# Definición de variables categoricas a usar en el modelo\n",
    "    # Se excluye la variable de municipio pues el modelo considera la variable no relevante\n",
    "categorical_features = ['sexo', 'tipo_contagio', 'rango_edad','asintomatico']#,'departamento','municipio'\n",
    "\n",
    "# Definición de variables númericas a usar en el modelo\n",
    "    # Excluye asintomatico pues el modelo considera la variable no relevante\n",
    "    # Excluye id_caso pues no infiere en la clasificacón del estado\n",
    "numerical_features = ['edad'] \n",
    "\n",
    "# Preprocesamiento de las caracteristicas categoricas y númericas definidas previamente\n",
    "preprocessor = ColumnTransformer(\n",
    "   transformers=[\n",
    "       (\"cat\", OneHotEncoder(), categorical_features),\n",
    "       (\"num\", StandardScaler(), numerical_features),\n",
    "   ]\n",
    ")"
   ]
  },
  {
   "cell_type": "markdown",
   "metadata": {},
   "source": [
    "# Creación de flujo de trabajo que seguirá el modelo"
   ]
  },
  {
   "cell_type": "code",
   "execution_count": 7,
   "metadata": {},
   "outputs": [],
   "source": [
    "pipeline = ImbPipeline(\n",
    "   [\n",
    "       ('undersampling', RandomUnderSampler(sampling_strategy = 'majority', random_state=42)),\n",
    "       (\"preprocessor\", preprocessor),\n",
    "       (\"classifier\", HistGradientBoostingClassifier(random_state=42))\n",
    "   ],\n",
    "   verbose=True\n",
    ")"
   ]
  },
  {
   "cell_type": "code",
   "execution_count": 8,
   "metadata": {},
   "outputs": [],
   "source": [
    "grid =  GridSearchCV(\n",
    "    pipeline,\n",
    "    param_grid = { \n",
    "        'classifier__max_iter': [50, 100, 150],\n",
    "        'classifier__learning_rate': [0.5, 0.1, 0.01], \n",
    "        'classifier__max_depth': [3, 9, None]}, \n",
    "    n_jobs=-1,\n",
    "    cv=3,\n",
    "    error_score='raise'\n",
    "    #iverbose=4\n",
    ")"
   ]
  },
  {
   "cell_type": "code",
   "execution_count": 9,
   "metadata": {},
   "outputs": [
    {
     "name": "stdout",
     "output_type": "stream",
     "text": [
      "[Pipeline] ..... (step 1 of 3) Processing undersampling, total=  27.1s\n",
      "[Pipeline] ...... (step 2 of 3) Processing preprocessor, total=   0.2s\n",
      "[Pipeline] ........ (step 3 of 3) Processing classifier, total=   1.3s\n"
     ]
    },
    {
     "data": {
      "text/html": [
       "<style>#sk-container-id-1 {color: black;}#sk-container-id-1 pre{padding: 0;}#sk-container-id-1 div.sk-toggleable {background-color: white;}#sk-container-id-1 label.sk-toggleable__label {cursor: pointer;display: block;width: 100%;margin-bottom: 0;padding: 0.3em;box-sizing: border-box;text-align: center;}#sk-container-id-1 label.sk-toggleable__label-arrow:before {content: \"▸\";float: left;margin-right: 0.25em;color: #696969;}#sk-container-id-1 label.sk-toggleable__label-arrow:hover:before {color: black;}#sk-container-id-1 div.sk-estimator:hover label.sk-toggleable__label-arrow:before {color: black;}#sk-container-id-1 div.sk-toggleable__content {max-height: 0;max-width: 0;overflow: hidden;text-align: left;background-color: #f0f8ff;}#sk-container-id-1 div.sk-toggleable__content pre {margin: 0.2em;color: black;border-radius: 0.25em;background-color: #f0f8ff;}#sk-container-id-1 input.sk-toggleable__control:checked~div.sk-toggleable__content {max-height: 200px;max-width: 100%;overflow: auto;}#sk-container-id-1 input.sk-toggleable__control:checked~label.sk-toggleable__label-arrow:before {content: \"▾\";}#sk-container-id-1 div.sk-estimator input.sk-toggleable__control:checked~label.sk-toggleable__label {background-color: #d4ebff;}#sk-container-id-1 div.sk-label input.sk-toggleable__control:checked~label.sk-toggleable__label {background-color: #d4ebff;}#sk-container-id-1 input.sk-hidden--visually {border: 0;clip: rect(1px 1px 1px 1px);clip: rect(1px, 1px, 1px, 1px);height: 1px;margin: -1px;overflow: hidden;padding: 0;position: absolute;width: 1px;}#sk-container-id-1 div.sk-estimator {font-family: monospace;background-color: #f0f8ff;border: 1px dotted black;border-radius: 0.25em;box-sizing: border-box;margin-bottom: 0.5em;}#sk-container-id-1 div.sk-estimator:hover {background-color: #d4ebff;}#sk-container-id-1 div.sk-parallel-item::after {content: \"\";width: 100%;border-bottom: 1px solid gray;flex-grow: 1;}#sk-container-id-1 div.sk-label:hover label.sk-toggleable__label {background-color: #d4ebff;}#sk-container-id-1 div.sk-serial::before {content: \"\";position: absolute;border-left: 1px solid gray;box-sizing: border-box;top: 0;bottom: 0;left: 50%;z-index: 0;}#sk-container-id-1 div.sk-serial {display: flex;flex-direction: column;align-items: center;background-color: white;padding-right: 0.2em;padding-left: 0.2em;position: relative;}#sk-container-id-1 div.sk-item {position: relative;z-index: 1;}#sk-container-id-1 div.sk-parallel {display: flex;align-items: stretch;justify-content: center;background-color: white;position: relative;}#sk-container-id-1 div.sk-item::before, #sk-container-id-1 div.sk-parallel-item::before {content: \"\";position: absolute;border-left: 1px solid gray;box-sizing: border-box;top: 0;bottom: 0;left: 50%;z-index: -1;}#sk-container-id-1 div.sk-parallel-item {display: flex;flex-direction: column;z-index: 1;position: relative;background-color: white;}#sk-container-id-1 div.sk-parallel-item:first-child::after {align-self: flex-end;width: 50%;}#sk-container-id-1 div.sk-parallel-item:last-child::after {align-self: flex-start;width: 50%;}#sk-container-id-1 div.sk-parallel-item:only-child::after {width: 0;}#sk-container-id-1 div.sk-dashed-wrapped {border: 1px dashed gray;margin: 0 0.4em 0.5em 0.4em;box-sizing: border-box;padding-bottom: 0.4em;background-color: white;}#sk-container-id-1 div.sk-label label {font-family: monospace;font-weight: bold;display: inline-block;line-height: 1.2em;}#sk-container-id-1 div.sk-label-container {text-align: center;}#sk-container-id-1 div.sk-container {/* jupyter's `normalize.less` sets `[hidden] { display: none; }` but bootstrap.min.css set `[hidden] { display: none !important; }` so we also need the `!important` here to be able to override the default hidden behavior on the sphinx rendered scikit-learn.org. See: https://github.com/scikit-learn/scikit-learn/issues/21755 */display: inline-block !important;position: relative;}#sk-container-id-1 div.sk-text-repr-fallback {display: none;}</style><div id=\"sk-container-id-1\" class=\"sk-top-container\"><div class=\"sk-text-repr-fallback\"><pre>GridSearchCV(cv=3, error_score=&#x27;raise&#x27;,\n",
       "             estimator=Pipeline(steps=[(&#x27;undersampling&#x27;,\n",
       "                                        RandomUnderSampler(random_state=42,\n",
       "                                                           sampling_strategy=&#x27;majority&#x27;)),\n",
       "                                       (&#x27;preprocessor&#x27;,\n",
       "                                        ColumnTransformer(transformers=[(&#x27;cat&#x27;,\n",
       "                                                                         OneHotEncoder(),\n",
       "                                                                         [&#x27;sexo&#x27;,\n",
       "                                                                          &#x27;tipo_contagio&#x27;,\n",
       "                                                                          &#x27;rango_edad&#x27;,\n",
       "                                                                          &#x27;asintomatico&#x27;]),\n",
       "                                                                        (&#x27;num&#x27;,\n",
       "                                                                         StandardScaler(),\n",
       "                                                                         [&#x27;edad&#x27;])])),\n",
       "                                       (&#x27;classifier&#x27;,\n",
       "                                        HistGradientBoostingClassifier(random_state=42))],\n",
       "                                verbose=True),\n",
       "             n_jobs=-1,\n",
       "             param_grid={&#x27;classifier__learning_rate&#x27;: [0.5, 0.1, 0.01],\n",
       "                         &#x27;classifier__max_depth&#x27;: [3, 9, None],\n",
       "                         &#x27;classifier__max_iter&#x27;: [50, 100, 150]})</pre><b>In a Jupyter environment, please rerun this cell to show the HTML representation or trust the notebook. <br />On GitHub, the HTML representation is unable to render, please try loading this page with nbviewer.org.</b></div><div class=\"sk-container\" hidden><div class=\"sk-item sk-dashed-wrapped\"><div class=\"sk-label-container\"><div class=\"sk-label sk-toggleable\"><input class=\"sk-toggleable__control sk-hidden--visually\" id=\"sk-estimator-id-1\" type=\"checkbox\" ><label for=\"sk-estimator-id-1\" class=\"sk-toggleable__label sk-toggleable__label-arrow\">GridSearchCV</label><div class=\"sk-toggleable__content\"><pre>GridSearchCV(cv=3, error_score=&#x27;raise&#x27;,\n",
       "             estimator=Pipeline(steps=[(&#x27;undersampling&#x27;,\n",
       "                                        RandomUnderSampler(random_state=42,\n",
       "                                                           sampling_strategy=&#x27;majority&#x27;)),\n",
       "                                       (&#x27;preprocessor&#x27;,\n",
       "                                        ColumnTransformer(transformers=[(&#x27;cat&#x27;,\n",
       "                                                                         OneHotEncoder(),\n",
       "                                                                         [&#x27;sexo&#x27;,\n",
       "                                                                          &#x27;tipo_contagio&#x27;,\n",
       "                                                                          &#x27;rango_edad&#x27;,\n",
       "                                                                          &#x27;asintomatico&#x27;]),\n",
       "                                                                        (&#x27;num&#x27;,\n",
       "                                                                         StandardScaler(),\n",
       "                                                                         [&#x27;edad&#x27;])])),\n",
       "                                       (&#x27;classifier&#x27;,\n",
       "                                        HistGradientBoostingClassifier(random_state=42))],\n",
       "                                verbose=True),\n",
       "             n_jobs=-1,\n",
       "             param_grid={&#x27;classifier__learning_rate&#x27;: [0.5, 0.1, 0.01],\n",
       "                         &#x27;classifier__max_depth&#x27;: [3, 9, None],\n",
       "                         &#x27;classifier__max_iter&#x27;: [50, 100, 150]})</pre></div></div></div><div class=\"sk-parallel\"><div class=\"sk-parallel-item\"><div class=\"sk-item\"><div class=\"sk-label-container\"><div class=\"sk-label sk-toggleable\"><input class=\"sk-toggleable__control sk-hidden--visually\" id=\"sk-estimator-id-2\" type=\"checkbox\" ><label for=\"sk-estimator-id-2\" class=\"sk-toggleable__label sk-toggleable__label-arrow\">estimator: Pipeline</label><div class=\"sk-toggleable__content\"><pre>Pipeline(steps=[(&#x27;undersampling&#x27;,\n",
       "                 RandomUnderSampler(random_state=42,\n",
       "                                    sampling_strategy=&#x27;majority&#x27;)),\n",
       "                (&#x27;preprocessor&#x27;,\n",
       "                 ColumnTransformer(transformers=[(&#x27;cat&#x27;, OneHotEncoder(),\n",
       "                                                  [&#x27;sexo&#x27;, &#x27;tipo_contagio&#x27;,\n",
       "                                                   &#x27;rango_edad&#x27;,\n",
       "                                                   &#x27;asintomatico&#x27;]),\n",
       "                                                 (&#x27;num&#x27;, StandardScaler(),\n",
       "                                                  [&#x27;edad&#x27;])])),\n",
       "                (&#x27;classifier&#x27;,\n",
       "                 HistGradientBoostingClassifier(random_state=42))],\n",
       "         verbose=True)</pre></div></div></div><div class=\"sk-serial\"><div class=\"sk-item\"><div class=\"sk-serial\"><div class=\"sk-item\"><div class=\"sk-estimator sk-toggleable\"><input class=\"sk-toggleable__control sk-hidden--visually\" id=\"sk-estimator-id-3\" type=\"checkbox\" ><label for=\"sk-estimator-id-3\" class=\"sk-toggleable__label sk-toggleable__label-arrow\">RandomUnderSampler</label><div class=\"sk-toggleable__content\"><pre>RandomUnderSampler(random_state=42, sampling_strategy=&#x27;majority&#x27;)</pre></div></div></div><div class=\"sk-item sk-dashed-wrapped\"><div class=\"sk-label-container\"><div class=\"sk-label sk-toggleable\"><input class=\"sk-toggleable__control sk-hidden--visually\" id=\"sk-estimator-id-4\" type=\"checkbox\" ><label for=\"sk-estimator-id-4\" class=\"sk-toggleable__label sk-toggleable__label-arrow\">preprocessor: ColumnTransformer</label><div class=\"sk-toggleable__content\"><pre>ColumnTransformer(transformers=[(&#x27;cat&#x27;, OneHotEncoder(),\n",
       "                                 [&#x27;sexo&#x27;, &#x27;tipo_contagio&#x27;, &#x27;rango_edad&#x27;,\n",
       "                                  &#x27;asintomatico&#x27;]),\n",
       "                                (&#x27;num&#x27;, StandardScaler(), [&#x27;edad&#x27;])])</pre></div></div></div><div class=\"sk-parallel\"><div class=\"sk-parallel-item\"><div class=\"sk-item\"><div class=\"sk-label-container\"><div class=\"sk-label sk-toggleable\"><input class=\"sk-toggleable__control sk-hidden--visually\" id=\"sk-estimator-id-5\" type=\"checkbox\" ><label for=\"sk-estimator-id-5\" class=\"sk-toggleable__label sk-toggleable__label-arrow\">cat</label><div class=\"sk-toggleable__content\"><pre>[&#x27;sexo&#x27;, &#x27;tipo_contagio&#x27;, &#x27;rango_edad&#x27;, &#x27;asintomatico&#x27;]</pre></div></div></div><div class=\"sk-serial\"><div class=\"sk-item\"><div class=\"sk-estimator sk-toggleable\"><input class=\"sk-toggleable__control sk-hidden--visually\" id=\"sk-estimator-id-6\" type=\"checkbox\" ><label for=\"sk-estimator-id-6\" class=\"sk-toggleable__label sk-toggleable__label-arrow\">OneHotEncoder</label><div class=\"sk-toggleable__content\"><pre>OneHotEncoder()</pre></div></div></div></div></div></div><div class=\"sk-parallel-item\"><div class=\"sk-item\"><div class=\"sk-label-container\"><div class=\"sk-label sk-toggleable\"><input class=\"sk-toggleable__control sk-hidden--visually\" id=\"sk-estimator-id-7\" type=\"checkbox\" ><label for=\"sk-estimator-id-7\" class=\"sk-toggleable__label sk-toggleable__label-arrow\">num</label><div class=\"sk-toggleable__content\"><pre>[&#x27;edad&#x27;]</pre></div></div></div><div class=\"sk-serial\"><div class=\"sk-item\"><div class=\"sk-estimator sk-toggleable\"><input class=\"sk-toggleable__control sk-hidden--visually\" id=\"sk-estimator-id-8\" type=\"checkbox\" ><label for=\"sk-estimator-id-8\" class=\"sk-toggleable__label sk-toggleable__label-arrow\">StandardScaler</label><div class=\"sk-toggleable__content\"><pre>StandardScaler()</pre></div></div></div></div></div></div></div></div><div class=\"sk-item\"><div class=\"sk-estimator sk-toggleable\"><input class=\"sk-toggleable__control sk-hidden--visually\" id=\"sk-estimator-id-9\" type=\"checkbox\" ><label for=\"sk-estimator-id-9\" class=\"sk-toggleable__label sk-toggleable__label-arrow\">HistGradientBoostingClassifier</label><div class=\"sk-toggleable__content\"><pre>HistGradientBoostingClassifier(random_state=42)</pre></div></div></div></div></div></div></div></div></div></div></div></div>"
      ],
      "text/plain": [
       "GridSearchCV(cv=3, error_score='raise',\n",
       "             estimator=Pipeline(steps=[('undersampling',\n",
       "                                        RandomUnderSampler(random_state=42,\n",
       "                                                           sampling_strategy='majority')),\n",
       "                                       ('preprocessor',\n",
       "                                        ColumnTransformer(transformers=[('cat',\n",
       "                                                                         OneHotEncoder(),\n",
       "                                                                         ['sexo',\n",
       "                                                                          'tipo_contagio',\n",
       "                                                                          'rango_edad',\n",
       "                                                                          'asintomatico']),\n",
       "                                                                        ('num',\n",
       "                                                                         StandardScaler(),\n",
       "                                                                         ['edad'])])),\n",
       "                                       ('classifier',\n",
       "                                        HistGradientBoostingClassifier(random_state=42))],\n",
       "                                verbose=True),\n",
       "             n_jobs=-1,\n",
       "             param_grid={'classifier__learning_rate': [0.5, 0.1, 0.01],\n",
       "                         'classifier__max_depth': [3, 9, None],\n",
       "                         'classifier__max_iter': [50, 100, 150]})"
      ]
     },
     "execution_count": 9,
     "metadata": {},
     "output_type": "execute_result"
    }
   ],
   "source": [
    "# Fit the grid on the training data\n",
    "grid.fit(X_train, y_train)"
   ]
  },
  {
   "cell_type": "code",
   "execution_count": 10,
   "metadata": {},
   "outputs": [
    {
     "data": {
      "text/plain": [
       "['HistGradientBoosting_GridSearch_RandomUnderSampling.joblib']"
      ]
     },
     "execution_count": 10,
     "metadata": {},
     "output_type": "execute_result"
    }
   ],
   "source": [
    "# Save pipeline for future use without fitting\n",
    "joblib.dump(grid, 'HistGradientBoosting_GridSearch_RandomUnderSampling.joblib')"
   ]
  },
  {
   "cell_type": "code",
   "execution_count": 11,
   "metadata": {},
   "outputs": [
    {
     "data": {
      "text/plain": [
       "array(['Fallecido', 'Fallecido', 'Fallecido', ..., 'Fallecido',\n",
       "       'Fallecido', 'Moderado'], dtype=object)"
      ]
     },
     "execution_count": 11,
     "metadata": {},
     "output_type": "execute_result"
    }
   ],
   "source": [
    "grid.predict(X_test)"
   ]
  },
  {
   "cell_type": "code",
   "execution_count": 12,
   "metadata": {},
   "outputs": [
    {
     "name": "stdout",
     "output_type": "stream",
     "text": [
      "{'mean_fit_time': array([26.31635038, 30.10699209, 29.68240094, 26.77239362, 26.76172988,\n",
      "       25.2817142 , 24.00663471, 23.92673683, 24.59728098, 24.78798143,\n",
      "       25.26386062, 25.52958886, 26.80892682, 26.25761819, 26.37750856,\n",
      "       25.62168447, 26.53434396, 26.34913365, 27.39062492, 30.01679023,\n",
      "       31.93009027, 28.21038834, 33.45574236, 34.88227638, 25.75454553,\n",
      "       32.77542392, 32.42560379]), 'std_fit_time': array([0.48920677, 1.47372073, 1.13935519, 0.74617087, 0.96859669,\n",
      "       0.6391755 , 0.75598043, 0.55490168, 0.68294261, 1.45080622,\n",
      "       0.93762803, 0.60032812, 1.02882223, 1.20016757, 0.81576379,\n",
      "       0.87992149, 0.57896318, 1.25372647, 0.52259273, 0.65108204,\n",
      "       0.76359603, 0.11475504, 0.14407271, 0.53541967, 0.81208403,\n",
      "       0.61914737, 0.61835207]), 'mean_score_time': array([ 19.12253753,  18.43626801,  17.33181159,  20.43014852,\n",
      "        19.40260975,  18.09056536,  18.4674449 ,  19.05190372,\n",
      "        21.21663745,  15.09522645,  15.06806588,  15.81612341,\n",
      "        20.06693816,  21.64629157,  21.54755521,  20.45898493,\n",
      "        19.77926723,  21.15243785,  48.11225398,  86.8572917 ,\n",
      "       125.30092295,  68.02442503, 124.2619284 , 143.36696498,\n",
      "        62.85559297, 114.43276747, 130.86988799]), 'std_score_time': array([0.82095208, 0.70517758, 1.25814111, 0.39696461, 1.00175403,\n",
      "       0.51397136, 0.6069674 , 0.46343801, 0.8346112 , 0.97610041,\n",
      "       0.8683905 , 0.51083022, 0.4125622 , 0.48859754, 1.73468271,\n",
      "       0.84629229, 0.2089242 , 1.02860581, 1.64170289, 2.37919468,\n",
      "       3.81102112, 0.17995899, 3.51103502, 4.44402919, 1.26164494,\n",
      "       4.29553756, 8.49941732]), 'param_classifier__learning_rate': masked_array(data=[0.5, 0.5, 0.5, 0.5, 0.5, 0.5, 0.5, 0.5, 0.5, 0.1, 0.1,\n",
      "                   0.1, 0.1, 0.1, 0.1, 0.1, 0.1, 0.1, 0.01, 0.01, 0.01,\n",
      "                   0.01, 0.01, 0.01, 0.01, 0.01, 0.01],\n",
      "             mask=[False, False, False, False, False, False, False, False,\n",
      "                   False, False, False, False, False, False, False, False,\n",
      "                   False, False, False, False, False, False, False, False,\n",
      "                   False, False, False],\n",
      "       fill_value='?',\n",
      "            dtype=object), 'param_classifier__max_depth': masked_array(data=[3, 3, 3, 9, 9, 9, None, None, None, 3, 3, 3, 9, 9, 9,\n",
      "                   None, None, None, 3, 3, 3, 9, 9, 9, None, None, None],\n",
      "             mask=[False, False, False, False, False, False, False, False,\n",
      "                   False, False, False, False, False, False, False, False,\n",
      "                   False, False, False, False, False, False, False, False,\n",
      "                   False, False, False],\n",
      "       fill_value='?',\n",
      "            dtype=object), 'param_classifier__max_iter': masked_array(data=[50, 100, 150, 50, 100, 150, 50, 100, 150, 50, 100, 150,\n",
      "                   50, 100, 150, 50, 100, 150, 50, 100, 150, 50, 100, 150,\n",
      "                   50, 100, 150],\n",
      "             mask=[False, False, False, False, False, False, False, False,\n",
      "                   False, False, False, False, False, False, False, False,\n",
      "                   False, False, False, False, False, False, False, False,\n",
      "                   False, False, False],\n",
      "       fill_value='?',\n",
      "            dtype=object), 'params': [{'classifier__learning_rate': 0.5, 'classifier__max_depth': 3, 'classifier__max_iter': 50}, {'classifier__learning_rate': 0.5, 'classifier__max_depth': 3, 'classifier__max_iter': 100}, {'classifier__learning_rate': 0.5, 'classifier__max_depth': 3, 'classifier__max_iter': 150}, {'classifier__learning_rate': 0.5, 'classifier__max_depth': 9, 'classifier__max_iter': 50}, {'classifier__learning_rate': 0.5, 'classifier__max_depth': 9, 'classifier__max_iter': 100}, {'classifier__learning_rate': 0.5, 'classifier__max_depth': 9, 'classifier__max_iter': 150}, {'classifier__learning_rate': 0.5, 'classifier__max_depth': None, 'classifier__max_iter': 50}, {'classifier__learning_rate': 0.5, 'classifier__max_depth': None, 'classifier__max_iter': 100}, {'classifier__learning_rate': 0.5, 'classifier__max_depth': None, 'classifier__max_iter': 150}, {'classifier__learning_rate': 0.1, 'classifier__max_depth': 3, 'classifier__max_iter': 50}, {'classifier__learning_rate': 0.1, 'classifier__max_depth': 3, 'classifier__max_iter': 100}, {'classifier__learning_rate': 0.1, 'classifier__max_depth': 3, 'classifier__max_iter': 150}, {'classifier__learning_rate': 0.1, 'classifier__max_depth': 9, 'classifier__max_iter': 50}, {'classifier__learning_rate': 0.1, 'classifier__max_depth': 9, 'classifier__max_iter': 100}, {'classifier__learning_rate': 0.1, 'classifier__max_depth': 9, 'classifier__max_iter': 150}, {'classifier__learning_rate': 0.1, 'classifier__max_depth': None, 'classifier__max_iter': 50}, {'classifier__learning_rate': 0.1, 'classifier__max_depth': None, 'classifier__max_iter': 100}, {'classifier__learning_rate': 0.1, 'classifier__max_depth': None, 'classifier__max_iter': 150}, {'classifier__learning_rate': 0.01, 'classifier__max_depth': 3, 'classifier__max_iter': 50}, {'classifier__learning_rate': 0.01, 'classifier__max_depth': 3, 'classifier__max_iter': 100}, {'classifier__learning_rate': 0.01, 'classifier__max_depth': 3, 'classifier__max_iter': 150}, {'classifier__learning_rate': 0.01, 'classifier__max_depth': 9, 'classifier__max_iter': 50}, {'classifier__learning_rate': 0.01, 'classifier__max_depth': 9, 'classifier__max_iter': 100}, {'classifier__learning_rate': 0.01, 'classifier__max_depth': 9, 'classifier__max_iter': 150}, {'classifier__learning_rate': 0.01, 'classifier__max_depth': None, 'classifier__max_iter': 50}, {'classifier__learning_rate': 0.01, 'classifier__max_depth': None, 'classifier__max_iter': 100}, {'classifier__learning_rate': 0.01, 'classifier__max_depth': None, 'classifier__max_iter': 150}], 'split0_test_score': array([0.0235576 , 0.0235576 , 0.0235576 , 0.03313265, 0.03313265,\n",
      "       0.03313265, 0.02829463, 0.02829463, 0.02829463, 0.02260322,\n",
      "       0.02260322, 0.02260322, 0.0320076 , 0.0320076 , 0.0320076 ,\n",
      "       0.03913116, 0.03913116, 0.03913116, 0.02257251, 0.02261445,\n",
      "       0.02261445, 0.02258019, 0.02261445, 0.02261445, 0.02258019,\n",
      "       0.02261445, 0.02261445]), 'split1_test_score': array([0.0419388 , 0.0419388 , 0.0419388 , 0.0812448 , 0.0812448 ,\n",
      "       0.0812448 , 0.04861235, 0.04861235, 0.04861235, 0.02638767,\n",
      "       0.02638767, 0.02638767, 0.02254831, 0.02254831, 0.02254831,\n",
      "       0.03344804, 0.03344804, 0.03344804, 0.0225678 , 0.02261682,\n",
      "       0.02261741, 0.02257666, 0.02261741, 0.02261741, 0.02257666,\n",
      "       0.02261682, 0.02261741]), 'split2_test_score': array([0.03507096, 0.03507096, 0.03507096, 0.03242988, 0.03242988,\n",
      "       0.03242988, 0.0578242 , 0.0578242 , 0.0578242 , 0.02259084,\n",
      "       0.02259084, 0.02259084, 0.02634101, 0.02634101, 0.02634101,\n",
      "       0.02257135, 0.02257135, 0.02257135, 0.02258552, 0.02260442,\n",
      "       0.02260442, 0.02258434, 0.02260442, 0.0260658 , 0.02258434,\n",
      "       0.02260442, 0.02260442]), 'mean_test_score': array([0.03352245, 0.03352245, 0.03352245, 0.04893578, 0.04893578,\n",
      "       0.04893578, 0.04491039, 0.04491039, 0.04491039, 0.02386058,\n",
      "       0.02386058, 0.02386058, 0.02696564, 0.02696564, 0.02696564,\n",
      "       0.03171685, 0.03171685, 0.03171685, 0.02257528, 0.0226119 ,\n",
      "       0.02261209, 0.0225804 , 0.02261209, 0.02376589, 0.0225804 ,\n",
      "       0.0226119 , 0.02261209]), 'std_test_score': array([7.58355824e-03, 7.58355824e-03, 7.58355824e-03, 2.28477283e-02,\n",
      "       2.28477283e-02, 2.28477283e-02, 1.23363197e-02, 1.23363197e-02,\n",
      "       1.23363197e-02, 1.78693164e-03, 1.78693164e-03, 1.78693164e-03,\n",
      "       3.88691434e-03, 3.88691434e-03, 3.88691434e-03, 6.87045169e-03,\n",
      "       6.87045169e-03, 6.87045169e-03, 7.49266104e-06, 5.37471434e-06,\n",
      "       5.55918179e-06, 3.13771307e-06, 5.55918179e-06, 1.62628715e-03,\n",
      "       3.13771307e-06, 5.37471434e-06, 5.55918179e-06]), 'rank_test_score': array([ 7,  7,  7,  1,  1,  1,  4,  4,  4, 16, 16, 16, 13, 13, 13, 10, 10,\n",
      "       10, 27, 23, 20, 25, 20, 19, 25, 23, 20])}\n",
      "Pipeline(steps=[('undersampling',\n",
      "                 RandomUnderSampler(random_state=42,\n",
      "                                    sampling_strategy='majority')),\n",
      "                ('preprocessor',\n",
      "                 ColumnTransformer(transformers=[('cat', OneHotEncoder(),\n",
      "                                                  ['sexo', 'tipo_contagio',\n",
      "                                                   'rango_edad',\n",
      "                                                   'asintomatico']),\n",
      "                                                 ('num', StandardScaler(),\n",
      "                                                  ['edad'])])),\n",
      "                ('classifier',\n",
      "                 HistGradientBoostingClassifier(learning_rate=0.5, max_depth=9,\n",
      "                                                max_iter=50,\n",
      "                                                random_state=42))],\n",
      "         verbose=True)\n"
     ]
    }
   ],
   "source": [
    "# Best parameters\n",
    "print(grid.cv_results_)\n",
    "print(grid.best_estimator_)"
   ]
  },
  {
   "cell_type": "code",
   "execution_count": 13,
   "metadata": {},
   "outputs": [
    {
     "name": "stdout",
     "output_type": "stream",
     "text": [
      "[Pipeline] ..... (step 1 of 3) Processing undersampling, total=  26.2s\n",
      "[Pipeline] ...... (step 2 of 3) Processing preprocessor, total=   0.1s\n",
      "[Pipeline] ........ (step 3 of 3) Processing classifier, total=   1.0s\n"
     ]
    }
   ],
   "source": [
    "# Fit the tuned_pipeline on the training data\n",
    "tuned_pipeline = grid.best_estimator_.fit(X_train, y_train)"
   ]
  },
  {
   "cell_type": "code",
   "execution_count": 14,
   "metadata": {},
   "outputs": [],
   "source": [
    "# Predict on the test set\n",
    "y_pred = tuned_pipeline.predict(X_test)"
   ]
  },
  {
   "cell_type": "code",
   "execution_count": 15,
   "metadata": {},
   "outputs": [
    {
     "name": "stdout",
     "output_type": "stream",
     "text": [
      "\n",
      "Classification Report:\n",
      "              precision    recall  f1-score   support\n",
      "\n",
      "   Fallecido       0.03      0.94      0.05     28487\n",
      "       Grave       0.00      0.04      0.00        23\n",
      "        Leve       0.99      0.04      0.07   1241208\n",
      "    Moderado       0.00      0.28      0.00       223\n",
      "\n",
      "    accuracy                           0.06   1269941\n",
      "   macro avg       0.25      0.33      0.03   1269941\n",
      "weighted avg       0.97      0.06      0.07   1269941\n",
      "\n"
     ]
    }
   ],
   "source": [
    "# Generate classification report\n",
    "report = classification_report(y_test, y_pred)\n",
    "print(\"\\nClassification Report:\")\n",
    "print(report)"
   ]
  }
 ],
 "metadata": {
  "kernelspec": {
   "display_name": "Python 3",
   "language": "python",
   "name": "python3"
  },
  "language_info": {
   "codemirror_mode": {
    "name": "ipython",
    "version": 3
   },
   "file_extension": ".py",
   "mimetype": "text/x-python",
   "name": "python",
   "nbconvert_exporter": "python",
   "pygments_lexer": "ipython3",
   "version": "3.11.4"
  }
 },
 "nbformat": 4,
 "nbformat_minor": 2
}
